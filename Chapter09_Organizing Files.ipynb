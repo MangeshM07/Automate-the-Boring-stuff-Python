{
 "cells": [
  {
   "cell_type": "code",
   "execution_count": null,
   "metadata": {},
   "outputs": [],
   "source": [
    "import shutil , os\n",
    "os.chdir('C:\\\\Users\\\\Bhagya\\\\Documents')\n",
    "shutil.copy('354.txt','C:\\\\Users\\\\Bhagya\\\\Documents\\\\delicious')"
   ]
  },
  {
   "cell_type": "code",
   "execution_count": null,
   "metadata": {},
   "outputs": [],
   "source": [
    "import shutil , os\n",
    "os.chdir('C:\\\\Users\\\\Bhagya\\\\Documents')\n",
    "shutil.copy('C:\\\\Users\\\\Bhagya\\\\Documents\\\\354.txt','C:\\\\Users\\\\Bhagya\\\\Documents\\\\delicious')"
   ]
  },
  {
   "cell_type": "code",
   "execution_count": null,
   "metadata": {},
   "outputs": [],
   "source": [
    "import shutil,os\n",
    "os.chdir('C:\\\\')\n",
    "shutil.copytree('C:\\\\Users\\\\Bhagya\\\\Documents\\\\German','C:\\\\Users\\\\Bhagya\\\\Documents\\\\German_bkp')"
   ]
  },
  {
   "cell_type": "code",
   "execution_count": null,
   "metadata": {},
   "outputs": [],
   "source": [
    "import shutil , os\n",
    "shutil.move('C:\\\\Users\\\\Bhagya\\\\Documents\\\\mm.jpeg','C:\\\\Users\\\\Bhagya\\\\Documents\\\\Delicious')"
   ]
  },
  {
   "cell_type": "markdown",
   "metadata": {},
   "source": [
    "#### os.unlink(path)   --> Delete file at path"
   ]
  },
  {
   "cell_type": "markdown",
   "metadata": {},
   "source": [
    "#### os.rmdir(path)    --> Delete the folder at path"
   ]
  },
  {
   "cell_type": "markdown",
   "metadata": {},
   "source": [
    "#### shutil.rmtree(path) --> Recursively delete folder and it contents"
   ]
  },
  {
   "cell_type": "code",
   "execution_count": null,
   "metadata": {},
   "outputs": [],
   "source": [
    "import os\n",
    "for filename in os.listdir():\n",
    "    if filename.endswith('.xyz'):\n",
    "        #os.unlink(filename)\n",
    "        print(filename)"
   ]
  },
  {
   "cell_type": "code",
   "execution_count": null,
   "metadata": {},
   "outputs": [],
   "source": [
    "#Safe deletes with send2trash module\n",
    "import send2trash ,os\n",
    "os.chdir('C:\\\\Users\\\\Bhagya\\\\Documents\\\\Python\\\\ABSWP')\n",
    "baconFile = open('bacon.txt','a')  #creates the file\n",
    "baconFile.write('Bacon is not a veggie')\n"
   ]
  },
  {
   "cell_type": "code",
   "execution_count": null,
   "metadata": {},
   "outputs": [],
   "source": [
    "baconFile.close()"
   ]
  },
  {
   "cell_type": "code",
   "execution_count": null,
   "metadata": {},
   "outputs": [],
   "source": [
    "send2trash.send2trash('bacon.txt')"
   ]
  },
  {
   "cell_type": "markdown",
   "metadata": {},
   "source": [
    "### Walking a Directory Tree"
   ]
  },
  {
   "cell_type": "code",
   "execution_count": null,
   "metadata": {},
   "outputs": [],
   "source": [
    "import os\n",
    "\n",
    "for folderName, subfolders,filenames in os.walk('C:\\\\Users\\\\Bhagya\\\\Documents\\\\Intellipat'):\n",
    "    print('The Current folder is ' +folderName)\n",
    "    \n",
    "    for subfolder in subfolders:\n",
    "        print('SUBFOLDER OF ' +folderName+ ': ' +subfolder)\n",
    "        \n",
    "        for filename in filenames:\n",
    "            print('FILE INSIDE ' +folderName+ ': ' +filename)\n",
    "            \n",
    "        print('')\n",
    "            "
   ]
  },
  {
   "cell_type": "markdown",
   "metadata": {},
   "source": [
    "### Reading ZIP Files"
   ]
  },
  {
   "cell_type": "code",
   "execution_count": 25,
   "metadata": {},
   "outputs": [
    {
     "data": {
      "text/plain": [
       "['spam.txt', 'cats/', 'cats/catnames.txt', 'cats/zophie.jpg']"
      ]
     },
     "execution_count": 25,
     "metadata": {},
     "output_type": "execute_result"
    }
   ],
   "source": [
    "import zipfile,os\n",
    "os.chdir('C:\\\\Users\\\\Bhagya\\\\Documents\\\\Python\\\\ABSWP\\\\automate_online-materials')\n",
    "exampleZip = zipfile.ZipFile('example.zip')\n",
    "\n",
    "exampleZip.namelist()"
   ]
  },
  {
   "cell_type": "code",
   "execution_count": 27,
   "metadata": {},
   "outputs": [
    {
     "data": {
      "text/plain": [
       "13908"
      ]
     },
     "execution_count": 27,
     "metadata": {},
     "output_type": "execute_result"
    }
   ],
   "source": [
    "spamInfo = exampleZip.getinfo('spam.txt')\n",
    "spamInfo.file_size"
   ]
  },
  {
   "cell_type": "code",
   "execution_count": 28,
   "metadata": {},
   "outputs": [
    {
     "data": {
      "text/plain": [
       "3828"
      ]
     },
     "execution_count": 28,
     "metadata": {},
     "output_type": "execute_result"
    }
   ],
   "source": [
    "spamInfo.compress_size"
   ]
  },
  {
   "cell_type": "code",
   "execution_count": 30,
   "metadata": {},
   "outputs": [
    {
     "data": {
      "text/plain": [
       "'Compressed file is 3.63x smaller!'"
      ]
     },
     "execution_count": 30,
     "metadata": {},
     "output_type": "execute_result"
    }
   ],
   "source": [
    "'Compressed file is %sx smaller!' %(round(spamInfo.file_size/spamInfo.compress_size,2))"
   ]
  },
  {
   "cell_type": "markdown",
   "metadata": {},
   "source": [
    "### Extracting from ZIP Files"
   ]
  },
  {
   "cell_type": "code",
   "execution_count": 2,
   "metadata": {},
   "outputs": [],
   "source": [
    "import zipfile,os\n",
    "os.chdir('C:\\\\Users\\\\Bhagya\\\\Documents\\\\Python\\\\ABSWP')\n",
    "exampleZip = zipfile.ZipFile('example.zip')\n",
    "exampleZip.extractall()\n",
    "exampleZip.close()"
   ]
  },
  {
   "cell_type": "code",
   "execution_count": 5,
   "metadata": {},
   "outputs": [],
   "source": [
    "import zipfile,os\n",
    "os.chdir('C:\\\\Users\\\\Bhagya\\\\Documents\\\\Python\\\\ABSWP')\n",
    "exampleZip = zipfile.ZipFile('example.zip')\n",
    "exampleZip.extract('spam.txt','.\\\\automate_online-materials')\n",
    "exampleZip.close()"
   ]
  },
  {
   "cell_type": "code",
   "execution_count": 8,
   "metadata": {},
   "outputs": [],
   "source": [
    "#Extracting file to non-existant folder\n",
    "import zipfile,os\n",
    "os.chdir('C:\\\\Users\\\\Bhagya\\\\Documents\\\\Python\\\\ABSWP')\n",
    "exampleZip = zipfile.ZipFile('example.zip')\n",
    "exampleZip.extract('spam.txt','.\\\\new')\n",
    "exampleZip.close()"
   ]
  },
  {
   "cell_type": "markdown",
   "metadata": {},
   "source": [
    "### Creating and Adding to ZIP files"
   ]
  },
  {
   "cell_type": "code",
   "execution_count": 9,
   "metadata": {},
   "outputs": [],
   "source": [
    "import zipfile,os\n",
    "newZip = zipfile.ZipFile('new.zip','w')\n",
    "newZip.write('spam.txt',compress_type = zipfile.ZIP_DEFLATED)\n",
    "newZip.close()"
   ]
  },
  {
   "cell_type": "code",
   "execution_count": 11,
   "metadata": {},
   "outputs": [],
   "source": [
    "import zipfile,os\n",
    "newZip = zipfile.ZipFile('new.zip','a')\n",
    "newZip.write('input.csv',compress_type = zipfile.ZIP_DEFLATED)\n",
    "newZip.close()"
   ]
  },
  {
   "cell_type": "markdown",
   "metadata": {},
   "source": [
    "### Project : Renaming Files with American-Style Dates to European-Style Dates"
   ]
  },
  {
   "cell_type": "code",
   "execution_count": 12,
   "metadata": {},
   "outputs": [],
   "source": [
    "#! python3\n",
    "# renameDates.py - Renames filenames with American MM-DD-YYYY date format to European DD-MM-YYYY.\n",
    "\n",
    "import shutil, os, re\n",
    "\n",
    "# Create a regex that matches files with the American date format.\n",
    "datePattern = re.compile(r\"\"\"^(.*?) # all text before the date\n",
    "    ((0|1)?\\d)- # one or two digits for the month\n",
    "    ((0|1|2|3)?\\d)- # one or two digits for the day\n",
    "    ((19|20)\\d\\d) # four digits for the year (must start with 19 or 20)\n",
    "    (.*?)$ # all text after the date\n",
    "    \"\"\", re.VERBOSE)\n",
    "\n",
    "# Loop over the files in the working directory.\n",
    "for amerFilename in os.listdir('.'):\n",
    "    mo = datePattern.search(amerFilename)\n",
    "\n",
    "    # Skip files without a date.\n",
    "    if mo == None:\n",
    "        continue\n",
    "\n",
    "    # Get the different parts of the filename.\n",
    "    beforePart = mo.group(1)\n",
    "    monthPart  = mo.group(2)\n",
    "    dayPart    = mo.group(4)\n",
    "    yearPart   = mo.group(6)\n",
    "    afterPart  = mo.group(8)\n",
    "\n",
    "    # Form the European-style filename.\n",
    "    euroFilename = beforePart + dayPart + '-' + monthPart + '-' + yearPart + afterPart\n",
    "\n",
    "    # Get the full, absolute file paths.\n",
    "    absWorkingDir = os.path.abspath('.')\n",
    "    amerFilename = os.path.join(absWorkingDir, amerFilename)\n",
    "    euroFilename = os.path.join(absWorkingDir, euroFilename)\n",
    "\n",
    "    # Rename the files.\n",
    "    print('Renaming \"%s\" to \"%s\"...' % (amerFilename, euroFilename))\n",
    "    #shutil.move(amerFilename, euroFilename) # uncomment after testing\n"
   ]
  },
  {
   "cell_type": "markdown",
   "metadata": {},
   "source": [
    "### Project : Backing up a folder in a ZIP file"
   ]
  },
  {
   "cell_type": "code",
   "execution_count": 13,
   "metadata": {},
   "outputs": [
    {
     "name": "stdout",
     "output_type": "stream",
     "text": [
      "Creating delicious_1.zip...\n",
      "Done.\n"
     ]
    }
   ],
   "source": [
    "#! python3\n",
    "# backupToZip.py\n",
    "# Copies an entire folder and its contents into\n",
    "# a zip file whose filename increments.\n",
    "\n",
    "import zipfile, os\n",
    "\n",
    "def backupToZip(folder):\n",
    "    # Backup the entire contents of \"folder\" into a zip file.\n",
    "\n",
    "    folder = os.path.abspath(folder) # Make sure folder is absolute\n",
    "\n",
    "    # Figure out the filename this code should used based on what\n",
    "    # files already exist.\n",
    "    number = 1\n",
    "    while True:\n",
    "        zipFilename = os.path.basename(folder) + '_' + str(number) + '.zip'\n",
    "        if not os.path.exists(zipFilename):\n",
    "            break\n",
    "        number = number + 1\n",
    "\n",
    "    # Create the zip file.\n",
    "    print('Creating %s...' % (zipFilename))\n",
    "    backupZip = zipfile.ZipFile(zipFilename, 'w')\n",
    "\n",
    "    # Walk the entire folder tree and compress the files in each folder.\n",
    "    for foldername, subfolders, filenames in os.walk(folder):\n",
    "        print('Adding files in %s...' % (foldername))\n",
    "        # Add the current folder to the zip file.\n",
    "        backupZip.write(foldername)\n",
    "\n",
    "        # Add all the files in this folder to the zip file.\n",
    "        for filename in filenames:\n",
    "            if filename.startswith(os.path.basename(folder) + '_') and filename.endswith('.zip'):\n",
    "                continue # Don't backup the backup zip files.\n",
    "            backupZip.write(os.path.join(foldername, filename))\n",
    "    backupZip.close()\n",
    "    print('Done.')\n",
    "\n",
    "\n",
    "backupToZip('C:\\\\delicious')"
   ]
  }
 ],
 "metadata": {
  "kernelspec": {
   "display_name": "Python 3",
   "language": "python",
   "name": "python3"
  },
  "language_info": {
   "codemirror_mode": {
    "name": "ipython",
    "version": 3
   },
   "file_extension": ".py",
   "mimetype": "text/x-python",
   "name": "python",
   "nbconvert_exporter": "python",
   "pygments_lexer": "ipython3",
   "version": "3.7.1"
  }
 },
 "nbformat": 4,
 "nbformat_minor": 2
}
