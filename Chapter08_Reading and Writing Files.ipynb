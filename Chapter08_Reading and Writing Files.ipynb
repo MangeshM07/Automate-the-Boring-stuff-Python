{
 "cells": [
  {
   "cell_type": "markdown",
   "metadata": {},
   "source": [
    "### Backslash on windows and Forward slash oon OS X and Linux"
   ]
  },
  {
   "cell_type": "code",
   "execution_count": 11,
   "metadata": {},
   "outputs": [
    {
     "data": {
      "text/plain": [
       "'c:Users\\\\Bhagya\\\\Documents\\\\Tableau'"
      ]
     },
     "execution_count": 11,
     "metadata": {},
     "output_type": "execute_result"
    }
   ],
   "source": [
    "import os\n",
    "os.path.join('c:','Users','Bhagya','Documents','Tableau')\n",
    "#C:\\Users\\Bhagya\\Documents\\Tableau"
   ]
  },
  {
   "cell_type": "code",
   "execution_count": 10,
   "metadata": {},
   "outputs": [
    {
     "name": "stdout",
     "output_type": "stream",
     "text": [
      "C:\\users\\mankarm\\account.txt\n",
      "C:\\users\\mankarm\\details.csv\n",
      "C:\\users\\mankarm\\invite.docs\n"
     ]
    }
   ],
   "source": [
    "myfiles = ['account.txt','details.csv','invite.docs']\n",
    "for filename in myfiles:\n",
    "    print(os.path.join('C:\\\\users\\\\mankarm',filename))"
   ]
  },
  {
   "cell_type": "markdown",
   "metadata": {},
   "source": [
    "### Current working directory and changing it"
   ]
  },
  {
   "cell_type": "code",
   "execution_count": 12,
   "metadata": {},
   "outputs": [
    {
     "data": {
      "text/plain": [
       "'C:\\\\Users\\\\Bhagya\\\\Documents\\\\Python\\\\ABSWP'"
      ]
     },
     "execution_count": 12,
     "metadata": {},
     "output_type": "execute_result"
    }
   ],
   "source": [
    "import os\n",
    "os.getcwd()"
   ]
  },
  {
   "cell_type": "code",
   "execution_count": 13,
   "metadata": {},
   "outputs": [],
   "source": [
    "os.chdir('C:\\\\Users\\\\Bhagya\\\\Documents\\\\Tableau')"
   ]
  },
  {
   "cell_type": "code",
   "execution_count": 14,
   "metadata": {},
   "outputs": [
    {
     "data": {
      "text/plain": [
       "'C:\\\\Users\\\\Bhagya\\\\Documents\\\\Tableau'"
      ]
     },
     "execution_count": 14,
     "metadata": {},
     "output_type": "execute_result"
    }
   ],
   "source": [
    "os.getcwd()"
   ]
  },
  {
   "cell_type": "markdown",
   "metadata": {},
   "source": [
    "### Absolute and Relative paths"
   ]
  },
  {
   "cell_type": "markdown",
   "metadata": {},
   "source": [
    "Absolute path which always begins with the root folder\n",
    "Relative path which is relative to the programs current working directory"
   ]
  },
  {
   "cell_type": "markdown",
   "metadata": {},
   "source": [
    "### Creating New folder with os.makedirs()"
   ]
  },
  {
   "cell_type": "code",
   "execution_count": 2,
   "metadata": {},
   "outputs": [],
   "source": [
    "import os\n",
    "os.makedirs('C:\\\\Users\\\\Bhagya\\\\Documents\\\\Big data\\\\AWS Big Data\\\\Data\\\\projects')"
   ]
  },
  {
   "cell_type": "markdown",
   "metadata": {},
   "source": [
    "### Handling Absolute and relative paths"
   ]
  },
  {
   "cell_type": "code",
   "execution_count": 4,
   "metadata": {},
   "outputs": [
    {
     "data": {
      "text/plain": [
       "'C:\\\\Users\\\\Bhagya\\\\Documents\\\\Python\\\\ABSWP'"
      ]
     },
     "execution_count": 4,
     "metadata": {},
     "output_type": "execute_result"
    }
   ],
   "source": [
    "os.path.abspath('.')"
   ]
  },
  {
   "cell_type": "code",
   "execution_count": 7,
   "metadata": {},
   "outputs": [
    {
     "data": {
      "text/plain": [
       "'C:\\\\Users\\\\Bhagya\\\\Documents\\\\Python\\\\ABSWP\\\\ABSWP'"
      ]
     },
     "execution_count": 7,
     "metadata": {},
     "output_type": "execute_result"
    }
   ],
   "source": [
    "os.path.abspath('.\\\\ABSWP')"
   ]
  },
  {
   "cell_type": "code",
   "execution_count": 8,
   "metadata": {},
   "outputs": [
    {
     "data": {
      "text/plain": [
       "False"
      ]
     },
     "execution_count": 8,
     "metadata": {},
     "output_type": "execute_result"
    }
   ],
   "source": [
    "os.path.isabs('.')"
   ]
  },
  {
   "cell_type": "code",
   "execution_count": 9,
   "metadata": {},
   "outputs": [
    {
     "data": {
      "text/plain": [
       "True"
      ]
     },
     "execution_count": 9,
     "metadata": {},
     "output_type": "execute_result"
    }
   ],
   "source": [
    "os.path.isabs(os.path.abspath('.'))"
   ]
  },
  {
   "cell_type": "code",
   "execution_count": 10,
   "metadata": {},
   "outputs": [
    {
     "data": {
      "text/plain": [
       "'Documents'"
      ]
     },
     "execution_count": 10,
     "metadata": {},
     "output_type": "execute_result"
    }
   ],
   "source": [
    "os.path.relpath('C:\\\\Documents','C:\\\\')"
   ]
  },
  {
   "cell_type": "code",
   "execution_count": 12,
   "metadata": {},
   "outputs": [
    {
     "data": {
      "text/plain": [
       "'..\\\\..\\\\..\\\\..\\\\..\\\\Documents'"
      ]
     },
     "execution_count": 12,
     "metadata": {},
     "output_type": "execute_result"
    }
   ],
   "source": [
    "os.path.relpath('c:\\\\Documents','C:\\\\Users\\\\Bhagya\\\\Documents\\\\Big data\\\\Apache NiFi')"
   ]
  },
  {
   "cell_type": "code",
   "execution_count": 13,
   "metadata": {},
   "outputs": [
    {
     "data": {
      "text/plain": [
       "'C:\\\\Users\\\\Bhagya\\\\Documents\\\\Python\\\\ABSWP'"
      ]
     },
     "execution_count": 13,
     "metadata": {},
     "output_type": "execute_result"
    }
   ],
   "source": [
    "os.getcwd()"
   ]
  },
  {
   "cell_type": "code",
   "execution_count": 14,
   "metadata": {},
   "outputs": [
    {
     "data": {
      "text/plain": [
       "'Apache NiFi'"
      ]
     },
     "execution_count": 14,
     "metadata": {},
     "output_type": "execute_result"
    }
   ],
   "source": [
    "path = 'C:\\\\Users\\\\Bhagya\\\\Documents\\\\Big data\\\\Apache NiFi'\n",
    "os.path.basename(path)"
   ]
  },
  {
   "cell_type": "code",
   "execution_count": 16,
   "metadata": {},
   "outputs": [
    {
     "data": {
      "text/plain": [
       "'C:\\\\Users\\\\Bhagya\\\\Documents\\\\Big data'"
      ]
     },
     "execution_count": 16,
     "metadata": {},
     "output_type": "execute_result"
    }
   ],
   "source": [
    "os.path.dirname(path)"
   ]
  },
  {
   "cell_type": "code",
   "execution_count": 20,
   "metadata": {},
   "outputs": [
    {
     "data": {
      "text/plain": [
       "'C:\\\\Users\\\\Bhagya\\\\Documents\\\\Python'"
      ]
     },
     "execution_count": 20,
     "metadata": {},
     "output_type": "execute_result"
    }
   ],
   "source": [
    "os.path.dirname(os.getcwd())"
   ]
  },
  {
   "cell_type": "code",
   "execution_count": 22,
   "metadata": {},
   "outputs": [
    {
     "data": {
      "text/plain": [
       "'ABSWP'"
      ]
     },
     "execution_count": 22,
     "metadata": {},
     "output_type": "execute_result"
    }
   ],
   "source": [
    "os.path.basename(os.getcwd())"
   ]
  },
  {
   "cell_type": "code",
   "execution_count": 23,
   "metadata": {},
   "outputs": [
    {
     "data": {
      "text/plain": [
       "('C:\\\\Users\\\\Bhagya\\\\Documents\\\\Python', 'ABSWP')"
      ]
     },
     "execution_count": 23,
     "metadata": {},
     "output_type": "execute_result"
    }
   ],
   "source": [
    "#split used to get both dirname and basename at once\n",
    "os.path.split(os.getcwd())"
   ]
  },
  {
   "cell_type": "code",
   "execution_count": 24,
   "metadata": {},
   "outputs": [
    {
     "data": {
      "text/plain": [
       "('C:\\\\Users\\\\Bhagya\\\\Documents\\\\Big data', 'Apache NiFi')"
      ]
     },
     "execution_count": 24,
     "metadata": {},
     "output_type": "execute_result"
    }
   ],
   "source": [
    "calcPath = 'C:\\\\Users\\\\Bhagya\\\\Documents\\\\Big data\\\\Apache NiFi'\n",
    "os.path.split(calcPath)"
   ]
  },
  {
   "cell_type": "code",
   "execution_count": 25,
   "metadata": {},
   "outputs": [
    {
     "data": {
      "text/plain": [
       "('C:\\\\Users\\\\Bhagya\\\\Documents\\\\Big data', 'Apache NiFi')"
      ]
     },
     "execution_count": 25,
     "metadata": {},
     "output_type": "execute_result"
    }
   ],
   "source": [
    "#Another way to derive basename and dirname in a tuple\n",
    "(os.path.dirname(calcPath),os.path.basename(calcPath))"
   ]
  },
  {
   "cell_type": "code",
   "execution_count": 26,
   "metadata": {},
   "outputs": [
    {
     "data": {
      "text/plain": [
       "['C:', 'Users', 'Bhagya', 'Documents', 'Big data', 'Apache NiFi']"
      ]
     },
     "execution_count": 26,
     "metadata": {},
     "output_type": "execute_result"
    }
   ],
   "source": [
    "calcPath.split(os.path.sep)"
   ]
  },
  {
   "cell_type": "markdown",
   "metadata": {},
   "source": [
    "### Finding File sizes and folder contents"
   ]
  },
  {
   "cell_type": "code",
   "execution_count": 27,
   "metadata": {},
   "outputs": [
    {
     "data": {
      "text/plain": [
       "12288"
      ]
     },
     "execution_count": 27,
     "metadata": {},
     "output_type": "execute_result"
    }
   ],
   "source": [
    "os.path.getsize('C:\\\\Users\\\\Bhagya\\\\Documents\\\\Big data')"
   ]
  },
  {
   "cell_type": "code",
   "execution_count": 29,
   "metadata": {},
   "outputs": [
    {
     "data": {
      "text/plain": [
       "['AI Engineering Spark',\n",
       " 'AIEngineering Notes.txt',\n",
       " 'Apache NiFi',\n",
       " 'Apache Spark',\n",
       " 'AWS Big Data',\n",
       " 'BigData Hadoop Tutorial by edureka',\n",
       " 'CCA 159 Advance Hive Zero to Expert in Big Data Analytics',\n",
       " 'Cloudera CCA 175 Spark Developer Certification Hadoop Based',\n",
       " 'Cloudxlab',\n",
       " 'Database Design & Management MySQL, Oracle & PostgreSQL',\n",
       " 'Hadoop In Real World',\n",
       " 'Intellipat',\n",
       " 'Master Flume, Sqoop, Hive for Big Data Ingestion & Analytics',\n",
       " 'PLSQL_Topics.txt',\n",
       " 'Softwares',\n",
       " 'sonnet29.txt',\n",
       " 'sonnet29.txt.txt',\n",
       " 'Spark-and-python-for-big-data-with-pyspark',\n",
       " 'Spark-The-Definitive-Guide-master',\n",
       " 'Spark-The-Definitive-Guide-master.zip',\n",
       " 'The Ultimate Introduction to Big Data',\n",
       " 'Udemy - Scala and Spark fo Big Data and Machine Learning',\n",
       " '[FreeCourseSite.com] Udemy - Hadoop Developer In Real World',\n",
       " '[FreeCoursesOnline.Me] [Packt] Big Data Analytics Projects with Apache Spark [FCO]',\n",
       " '[FreeCoursesOnline.Me] [Packt] Hands-On Developers Guide to MongoDB 4.0 [FCO]',\n",
       " '[FreeCoursesOnline.Me] [Packt] Learn Apache Cassandra in Just 2 Hours [FCO]']"
      ]
     },
     "execution_count": 29,
     "metadata": {},
     "output_type": "execute_result"
    }
   ],
   "source": [
    "os.listdir('C:\\\\Users\\\\Bhagya\\\\Documents\\\\Big data')"
   ]
  },
  {
   "cell_type": "code",
   "execution_count": 31,
   "metadata": {},
   "outputs": [
    {
     "name": "stdout",
     "output_type": "stream",
     "text": [
      "294689430\n"
     ]
    }
   ],
   "source": [
    "totalsize = 0\n",
    "for filename in os.listdir('C:\\\\Users\\\\Bhagya\\\\Documents\\\\Big data'):\n",
    "    totalsize = totalsize + os.path.getsize(os.path.join('C:\\\\Users\\\\Bhagya\\\\Documents\\\\Big data',filename))\n",
    "    \n",
    "print(totalsize)"
   ]
  },
  {
   "cell_type": "markdown",
   "metadata": {},
   "source": [
    "### Check Path Validity"
   ]
  },
  {
   "cell_type": "code",
   "execution_count": 32,
   "metadata": {},
   "outputs": [
    {
     "data": {
      "text/plain": [
       "True"
      ]
     },
     "execution_count": 32,
     "metadata": {},
     "output_type": "execute_result"
    }
   ],
   "source": [
    "os.path.exists('C:\\\\Users\\\\Bhagya\\\\Documents\\\\Big data')"
   ]
  },
  {
   "cell_type": "code",
   "execution_count": 33,
   "metadata": {},
   "outputs": [
    {
     "data": {
      "text/plain": [
       "False"
      ]
     },
     "execution_count": 33,
     "metadata": {},
     "output_type": "execute_result"
    }
   ],
   "source": [
    "os.path.exists('C:\\\\Users\\\\Bhagya\\\\Documents\\\\Big dataaaaaaaaaaa')"
   ]
  },
  {
   "cell_type": "code",
   "execution_count": 34,
   "metadata": {},
   "outputs": [
    {
     "data": {
      "text/plain": [
       "True"
      ]
     },
     "execution_count": 34,
     "metadata": {},
     "output_type": "execute_result"
    }
   ],
   "source": [
    "os.path.isfile('C:\\\\Users\\\\Bhagya\\\\Documents\\\\Big data\\\\sonnet29.txt')"
   ]
  },
  {
   "cell_type": "code",
   "execution_count": 35,
   "metadata": {},
   "outputs": [
    {
     "data": {
      "text/plain": [
       "True"
      ]
     },
     "execution_count": 35,
     "metadata": {},
     "output_type": "execute_result"
    }
   ],
   "source": [
    "os.path.isdir('C:\\\\Users\\\\Bhagya\\\\Documents\\\\Big data')"
   ]
  },
  {
   "cell_type": "code",
   "execution_count": 36,
   "metadata": {},
   "outputs": [
    {
     "data": {
      "text/plain": [
       "False"
      ]
     },
     "execution_count": 36,
     "metadata": {},
     "output_type": "execute_result"
    }
   ],
   "source": [
    "os.path.exists('D:\\\\')"
   ]
  },
  {
   "cell_type": "markdown",
   "metadata": {},
   "source": [
    "### The File Reading/Writing Process"
   ]
  },
  {
   "cell_type": "code",
   "execution_count": 38,
   "metadata": {},
   "outputs": [
    {
     "data": {
      "text/plain": [
       "'Hello world!!'"
      ]
     },
     "execution_count": 38,
     "metadata": {},
     "output_type": "execute_result"
    }
   ],
   "source": [
    "helloFile = open('C:\\\\Users\\\\Bhagya\\\\Documents\\\\Python\\\\ABSWP\\\\hello.txt')\n",
    "helloFile.read()"
   ]
  },
  {
   "cell_type": "code",
   "execution_count": 39,
   "metadata": {},
   "outputs": [
    {
     "data": {
      "text/plain": [
       "'Hello world!!'"
      ]
     },
     "execution_count": 39,
     "metadata": {},
     "output_type": "execute_result"
    }
   ],
   "source": [
    "helloFile = open('C:\\\\Users\\\\Bhagya\\\\Documents\\\\Python\\\\ABSWP\\\\hello.txt')\n",
    "helloContent = helloFile.read()\n",
    "helloContent"
   ]
  },
  {
   "cell_type": "code",
   "execution_count": 43,
   "metadata": {},
   "outputs": [
    {
     "data": {
      "text/plain": [
       "['When, in disgrace with fortune and men’s eyes,\\n',\n",
       " 'I all alone beweep my outcast state,\\n',\n",
       " 'And trouble deaf heaven with my bootless cries,\\n',\n",
       " 'And look upon myself and curse my fate,\\n',\n",
       " 'Wishing me like to one more rich in hope,\\n',\n",
       " 'Featured like him, like him with friends possessed,\\n',\n",
       " 'Desiring this man’s art and that man’s scope,\\n',\n",
       " 'With what I most enjoy contented least;\\n',\n",
       " 'Yet in these thoughts myself almost despising,\\n',\n",
       " 'Haply I think on thee, and then my state,\\n',\n",
       " '(Like to the lark at break of day arising\\n',\n",
       " 'From sullen earth) sings hymns at heaven’s gate;\\n',\n",
       " '       For thy sweet love remembered such wealth brings\\n',\n",
       " '       That then I scorn to change my state with kings.']"
      ]
     },
     "execution_count": 43,
     "metadata": {},
     "output_type": "execute_result"
    }
   ],
   "source": [
    "sonnetFile = open('sonnet29.txt')\n",
    "sonnetFile.readlines()"
   ]
  },
  {
   "cell_type": "code",
   "execution_count": 44,
   "metadata": {},
   "outputs": [
    {
     "data": {
      "text/plain": [
       "'When, in disgrace with fortune and men’s eyes,\\nI all alone beweep my outcast state,\\nAnd trouble deaf heaven with my bootless cries,\\nAnd look upon myself and curse my fate,\\nWishing me like to one more rich in hope,\\nFeatured like him, like him with friends possessed,\\nDesiring this man’s art and that man’s scope,\\nWith what I most enjoy contented least;\\nYet in these thoughts myself almost despising,\\nHaply I think on thee, and then my state,\\n(Like to the lark at break of day arising\\nFrom sullen earth) sings hymns at heaven’s gate;\\n       For thy sweet love remembered such wealth brings\\n       That then I scorn to change my state with kings.'"
      ]
     },
     "execution_count": 44,
     "metadata": {},
     "output_type": "execute_result"
    }
   ],
   "source": [
    "sonnetFile = open('sonnet29.txt')\n",
    "sonnetFile.read()"
   ]
  },
  {
   "cell_type": "markdown",
   "metadata": {},
   "source": [
    "#### Writing to Files"
   ]
  },
  {
   "cell_type": "code",
   "execution_count": 45,
   "metadata": {},
   "outputs": [
    {
     "data": {
      "text/plain": [
       "12"
      ]
     },
     "execution_count": 45,
     "metadata": {},
     "output_type": "execute_result"
    }
   ],
   "source": [
    "baconFile = open('bacon.txt','w')\n",
    "baconFile.write('Hello World\\n')"
   ]
  },
  {
   "cell_type": "code",
   "execution_count": 46,
   "metadata": {},
   "outputs": [],
   "source": [
    "baconFile.close()"
   ]
  },
  {
   "cell_type": "code",
   "execution_count": 47,
   "metadata": {},
   "outputs": [],
   "source": [
    "baconFile = open('bacon.txt','a')\n",
    "baconFile.write('Bacon is not a vegetable\\n')\n",
    "baconFile.close()"
   ]
  },
  {
   "cell_type": "code",
   "execution_count": 49,
   "metadata": {},
   "outputs": [
    {
     "name": "stdout",
     "output_type": "stream",
     "text": [
      "Hello World\n",
      "Bacon is not a vegetable\n",
      "\n"
     ]
    }
   ],
   "source": [
    "baconFile = open('bacon.txt')\n",
    "content = baconFile.read()\n",
    "baconFile.close()\n",
    "print(content)"
   ]
  },
  {
   "cell_type": "markdown",
   "metadata": {},
   "source": [
    "### Saving variables with the shelve module"
   ]
  },
  {
   "cell_type": "code",
   "execution_count": 52,
   "metadata": {},
   "outputs": [],
   "source": [
    "import shelve\n",
    "shelfFile = shelve.open('mydata')\n",
    "cats = ['Zophie','Pooka','Simon']\n",
    "\n",
    "shelfFile['cats'] = cats\n",
    "shelfFile.close()"
   ]
  },
  {
   "cell_type": "code",
   "execution_count": 54,
   "metadata": {},
   "outputs": [
    {
     "data": {
      "text/plain": [
       "shelve.DbfilenameShelf"
      ]
     },
     "execution_count": 54,
     "metadata": {},
     "output_type": "execute_result"
    }
   ],
   "source": [
    "shelfFile = shelve.open('mydata')\n",
    "type(shelfFile)"
   ]
  },
  {
   "cell_type": "code",
   "execution_count": 55,
   "metadata": {},
   "outputs": [
    {
     "data": {
      "text/plain": [
       "['Zophie', 'Pooka', 'Simon']"
      ]
     },
     "execution_count": 55,
     "metadata": {},
     "output_type": "execute_result"
    }
   ],
   "source": [
    "shelfFile['cats']"
   ]
  },
  {
   "cell_type": "code",
   "execution_count": 56,
   "metadata": {},
   "outputs": [],
   "source": [
    "shelfFile.close()"
   ]
  },
  {
   "cell_type": "code",
   "execution_count": 57,
   "metadata": {},
   "outputs": [
    {
     "data": {
      "text/plain": [
       "['cats']"
      ]
     },
     "execution_count": 57,
     "metadata": {},
     "output_type": "execute_result"
    }
   ],
   "source": [
    "shelfFile = shelve.open('mydata')\n",
    "list(shelfFile.keys())"
   ]
  },
  {
   "cell_type": "code",
   "execution_count": 58,
   "metadata": {},
   "outputs": [
    {
     "data": {
      "text/plain": [
       "[['Zophie', 'Pooka', 'Simon']]"
      ]
     },
     "execution_count": 58,
     "metadata": {},
     "output_type": "execute_result"
    }
   ],
   "source": [
    "list(shelfFile.values())"
   ]
  },
  {
   "cell_type": "code",
   "execution_count": 59,
   "metadata": {},
   "outputs": [],
   "source": [
    "shelfFile.close()"
   ]
  },
  {
   "cell_type": "markdown",
   "metadata": {},
   "source": [
    "### Saving variables with pprint.pformat() function"
   ]
  },
  {
   "cell_type": "code",
   "execution_count": 61,
   "metadata": {},
   "outputs": [
    {
     "data": {
      "text/plain": [
       "\"[{'Desc': 'Fluffy', 'name': 'Zophie'}, {'Desc': 'chubby', 'name': 'Pooka'}]\""
      ]
     },
     "execution_count": 61,
     "metadata": {},
     "output_type": "execute_result"
    }
   ],
   "source": [
    "import pprint\n",
    "cats = [{'name':'Zophie','Desc':'Fluffy'},{'name':'Pooka','Desc':'chubby'}]\n",
    "pprint.pformat(cats)"
   ]
  },
  {
   "cell_type": "code",
   "execution_count": 63,
   "metadata": {},
   "outputs": [],
   "source": [
    "fileObj = open('mycats.py','w')\n",
    "fileObj.write('cats = '+pprint.pformat(cats)+ '\\n')\n",
    "fileObj.close()"
   ]
  },
  {
   "cell_type": "code",
   "execution_count": 64,
   "metadata": {},
   "outputs": [
    {
     "data": {
      "text/plain": [
       "[{'Desc': 'Fluffy', 'name': 'Zophie'}, {'Desc': 'chubby', 'name': 'Pooka'}]"
      ]
     },
     "execution_count": 64,
     "metadata": {},
     "output_type": "execute_result"
    }
   ],
   "source": [
    "import mycats\n",
    "mycats.cats"
   ]
  },
  {
   "cell_type": "code",
   "execution_count": 66,
   "metadata": {},
   "outputs": [
    {
     "data": {
      "text/plain": [
       "{'Desc': 'Fluffy', 'name': 'Zophie'}"
      ]
     },
     "execution_count": 66,
     "metadata": {},
     "output_type": "execute_result"
    }
   ],
   "source": [
    "mycats.cats[0]"
   ]
  },
  {
   "cell_type": "code",
   "execution_count": 68,
   "metadata": {},
   "outputs": [
    {
     "data": {
      "text/plain": [
       "'Zophie'"
      ]
     },
     "execution_count": 68,
     "metadata": {},
     "output_type": "execute_result"
    }
   ],
   "source": [
    "mycats.cats[0]['name']"
   ]
  },
  {
   "cell_type": "markdown",
   "metadata": {},
   "source": [
    "# Project"
   ]
  },
  {
   "cell_type": "markdown",
   "metadata": {},
   "source": [
    "### Random Quiz Files"
   ]
  },
  {
   "cell_type": "code",
   "execution_count": 8,
   "metadata": {},
   "outputs": [],
   "source": [
    "#! python3\n",
    "\n",
    "#randomQuizGenerator.py - Creates quizzes with questions and answers in random order, along with the answer key.\n",
    "\n",
    "import random\n",
    "\n",
    "# the quiz data. Keys are states and values are their capitals.\n",
    "\n",
    "capitals = {'Alabama': 'Montgomery', 'Alaska': 'Juneau', 'Arizona': 'Phoenix',\n",
    "            'Arkansas': 'Little Rock', 'California': 'Sacramento',\n",
    "            'Colorado': 'Denver', 'Connecticut': 'Hartford', 'Delaware': 'Dover',\n",
    "            'Florida': 'Tallahassee', 'Georgia': 'Atlanta', 'Hawaii': 'Honolulu',\n",
    "            'Idaho': 'Boie', 'Illinois': 'Springfield', 'Indiana': 'Indianapolis',\n",
    "            'Iowa': 'Des Moines', 'Kansas': 'Topeka', 'Kentucky': 'Frankfort',\n",
    "            'Louisiana': 'Baton Rouge', 'Maine': 'Augusta', 'Maryland': 'Annapolis',\n",
    "            'Massachusetts': 'Boston', 'Michigan': 'Lansing', 'Minnesota': 'Saint Paul',\n",
    "            'Mississippi': 'Jackson', 'Missouri': 'Jefferson City', 'Montana': 'Helena',\n",
    "            'Nebraska': 'Lincoln', 'Nevada': 'Carson City', 'New Hampshire': 'Concord',\n",
    "            'New Jersey': 'Trenton', 'New Mexico': 'Santa Fe', 'New York': 'Albany',\n",
    "            'North Carolina': 'Raleigh', 'North Dakota': 'Bismarck', 'Ohio': 'Columbus',\n",
    "            'Oaklahoma': 'Oaklahoma City', 'Oregon': 'Salem', 'Pennsylvania': 'Harrisburg',\n",
    "            'Rhode Island': 'Providence', 'South Carolina': 'Columbia',\n",
    "            'South Dakota': 'Pierre', 'Tennessee': 'Nashville', 'Texas': 'Austin',\n",
    "            'Utah': 'Salt Lake City', 'Vermont': 'Montpelier', 'Virginia': 'Richmond',\n",
    "            'Washington': 'Olympia', 'West Virginia': 'Charleston', 'Wisconsin': 'Madison',\n",
    "            'Wyoming': 'Cheyenne'}\n",
    "\n",
    "# Generate 35 quiz files.\n",
    "for quizNum in range(35):\n",
    "    \n",
    "    #Create quiz and answer key files.\n",
    "    \n",
    "    quizFile = open('CapitalsQuiz%s.txt' %(quizNum + 1),'w')\n",
    "    answerKeyFile = open('CapitalsQuiz_Answers%s.txt' %(quizNum + 1 ),'w')\n",
    "    \n",
    "    #Write out the header for the quiz.\n",
    "    \n",
    "    quizFile.write('Name:\\n\\nDate:\\n\\nPeriod:\\n\\n')\n",
    "    quizFile.write((' ' * 20) + 'State Capitals Quiz (Form %s)' %(quizNum + 1))\n",
    "    quizFile.write('\\n\\n')\n",
    "    \n",
    "    #Shuffle the order of the states\n",
    "    \n",
    "    states = list(capitals.keys())\n",
    "    random.shuffle(states)\n",
    "    \n",
    "    #Loop through all 50 atates making a quetion for each \n",
    "    \n",
    "    for questionNum in range(50):\n",
    "        \n",
    "        #Get right and wrong answers\n",
    "        \n",
    "        correctAnswer = capitals[states[questionNum]]\n",
    "        wrongAnswers = list(capitals.values())\n",
    "        del wrongAnswers[wrongAnswers.index(correctAnswer)]\n",
    "        wrongAnswers = random.sample(wrongAnswers,3)\n",
    "        answerOptions = wrongAnswers + [correctAnswer]\n",
    "        random.shuffle(answerOptions)\n",
    "        \n",
    "        #Write question and answer options to the quiz file.\n",
    "        \n",
    "        quizFile.write('%s.What is the capital of %s ?\\n' %(questionNum + 1,states[questionNum]))\n",
    "        \n",
    "        for i in range(4):\n",
    "            quizFile.write('  %s. %s\\n' % ('ABCD'[i],answerOptions[i]))\n",
    "            quizFile.write('\\n')\n",
    "        \n",
    "        #Write the answer key to a file.\n",
    "        answerKeyFile.write('%s. %s\\n' %(questionNum + 1,'ABCD'[answerOptions.index(correctAnswer)]))\n",
    "        \n",
    "quizFile.close()\n",
    "answerKeyFile.close()"
   ]
  },
  {
   "cell_type": "code",
   "execution_count": 9,
   "metadata": {},
   "outputs": [],
   "source": [
    "#! python 3\n",
    "# mcb.pyw - Saves and loads pieces of text to the clipboard.\n",
    "# Usage: py.exe mcb.pyw save <keyword> - Saves clipboard to keyword.\n",
    "#        py.exe mcb.pyw <keyword> - Loads keyword to clipboard.\n",
    "#        py.exe mcb.pyw list - Loads all keywords to clipboard.\n",
    "\n",
    "import shelve, pyperclip, sys\n",
    "\n",
    "mcbShelf = shelve.open('mcb')\n",
    "\n",
    "#Save clipboard content.\n",
    "if len(sys.argv) == 3 and sys.argv[1].lower() == 'save':\n",
    "    mcbShelf[sys.argv[2]] = pyperclip.paste()\n",
    "elif len(sys.argv) == 2:\n",
    "    # List keywords and load content.\n",
    "    if sys.argv[1].lower() == 'list':\n",
    "        pyperclip.copy(str(list(mcbShelf.keys())))\n",
    "    elif sys.argv[1] in mcbShelf:\n",
    "        pyperclip.copy(mcbShelf[sys.argv[1]])\n",
    "    \n",
    "mcbShelf.close()"
   ]
  }
 ],
 "metadata": {
  "kernelspec": {
   "display_name": "Python 3",
   "language": "python",
   "name": "python3"
  },
  "language_info": {
   "codemirror_mode": {
    "name": "ipython",
    "version": 3
   },
   "file_extension": ".py",
   "mimetype": "text/x-python",
   "name": "python",
   "nbconvert_exporter": "python",
   "pygments_lexer": "ipython3",
   "version": "3.7.1"
  }
 },
 "nbformat": 4,
 "nbformat_minor": 2
}
