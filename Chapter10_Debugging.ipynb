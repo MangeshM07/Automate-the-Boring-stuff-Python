{
 "cells": [
  {
   "cell_type": "code",
   "execution_count": 1,
   "metadata": {},
   "outputs": [
    {
     "ename": "Exception",
     "evalue": "This is the error message",
     "output_type": "error",
     "traceback": [
      "\u001b[1;31m---------------------------------------------------------------------------\u001b[0m",
      "\u001b[1;31mException\u001b[0m                                 Traceback (most recent call last)",
      "\u001b[1;32m<ipython-input-1-275e10cb6c45>\u001b[0m in \u001b[0;36m<module>\u001b[1;34m\u001b[0m\n\u001b[1;32m----> 1\u001b[1;33m \u001b[1;32mraise\u001b[0m \u001b[0mException\u001b[0m\u001b[1;33m(\u001b[0m\u001b[1;34m\"This is the error message\"\u001b[0m\u001b[1;33m)\u001b[0m\u001b[1;33m\u001b[0m\u001b[1;33m\u001b[0m\u001b[0m\n\u001b[0m",
      "\u001b[1;31mException\u001b[0m: This is the error message"
     ]
    }
   ],
   "source": [
    "raise Exception(\"This is the error message\")"
   ]
  },
  {
   "cell_type": "code",
   "execution_count": 5,
   "metadata": {},
   "outputs": [
    {
     "name": "stdout",
     "output_type": "stream",
     "text": [
      "****\n",
      "*  *\n",
      "*  *\n",
      "****\n",
      "00000000000000000000\n",
      "0                  0\n",
      "0                  0\n",
      "0                  0\n",
      "00000000000000000000\n",
      "An exception happened: Width must be grreater than 2\n",
      "An exception happened: Symbol must be a single character string\n"
     ]
    }
   ],
   "source": [
    "#boxPrint.py\n",
    "def boxPrint(symbol,width,height):\n",
    "    if len(symbol) != 1:\n",
    "        raise Exception('Symbol must be a single character string')\n",
    "    if width <= 2:\n",
    "        raise Exception('Width must be grreater than 2')\n",
    "    if height <= 2:\n",
    "        raise Exception('Height must be greater than 2')\n",
    "        \n",
    "    print(symbol * width)\n",
    "    for i in range(height - 2):\n",
    "        print(symbol + (' ' * (width - 2 )) + symbol)\n",
    "    print(symbol * width)\n",
    "    \n",
    "for sym,w,h in (('*',4,4),('0',20,5),('x',1,3),('ZZ',3,3)):\n",
    "    try:\n",
    "        boxPrint(sym,w,h)\n",
    "    except Exception as err:\n",
    "        print('An exception happened: '+str(err))"
   ]
  },
  {
   "cell_type": "code",
   "execution_count": 6,
   "metadata": {},
   "outputs": [
    {
     "ename": "Exception",
     "evalue": "This is the error message",
     "output_type": "error",
     "traceback": [
      "\u001b[1;31m---------------------------------------------------------------------------\u001b[0m",
      "\u001b[1;31mException\u001b[0m                                 Traceback (most recent call last)",
      "\u001b[1;32m<ipython-input-6-aa73bc3987e4>\u001b[0m in \u001b[0;36m<module>\u001b[1;34m\u001b[0m\n\u001b[0;32m      7\u001b[0m     \u001b[1;32mraise\u001b[0m \u001b[0mException\u001b[0m\u001b[1;33m(\u001b[0m\u001b[1;34m'This is the error message'\u001b[0m\u001b[1;33m)\u001b[0m\u001b[1;33m\u001b[0m\u001b[1;33m\u001b[0m\u001b[0m\n\u001b[0;32m      8\u001b[0m \u001b[1;33m\u001b[0m\u001b[0m\n\u001b[1;32m----> 9\u001b[1;33m \u001b[0mspam\u001b[0m\u001b[1;33m(\u001b[0m\u001b[1;33m)\u001b[0m\u001b[1;33m\u001b[0m\u001b[1;33m\u001b[0m\u001b[0m\n\u001b[0m\u001b[0;32m     10\u001b[0m \u001b[1;33m\u001b[0m\u001b[0m\n",
      "\u001b[1;32m<ipython-input-6-aa73bc3987e4>\u001b[0m in \u001b[0;36mspam\u001b[1;34m()\u001b[0m\n\u001b[0;32m      2\u001b[0m \u001b[1;33m\u001b[0m\u001b[0m\n\u001b[0;32m      3\u001b[0m \u001b[1;32mdef\u001b[0m \u001b[0mspam\u001b[0m\u001b[1;33m(\u001b[0m\u001b[1;33m)\u001b[0m\u001b[1;33m:\u001b[0m\u001b[1;33m\u001b[0m\u001b[1;33m\u001b[0m\u001b[0m\n\u001b[1;32m----> 4\u001b[1;33m     \u001b[0mbacon\u001b[0m\u001b[1;33m(\u001b[0m\u001b[1;33m)\u001b[0m\u001b[1;33m\u001b[0m\u001b[1;33m\u001b[0m\u001b[0m\n\u001b[0m\u001b[0;32m      5\u001b[0m \u001b[1;33m\u001b[0m\u001b[0m\n\u001b[0;32m      6\u001b[0m \u001b[1;32mdef\u001b[0m \u001b[0mbacon\u001b[0m\u001b[1;33m(\u001b[0m\u001b[1;33m)\u001b[0m\u001b[1;33m:\u001b[0m\u001b[1;33m\u001b[0m\u001b[1;33m\u001b[0m\u001b[0m\n",
      "\u001b[1;32m<ipython-input-6-aa73bc3987e4>\u001b[0m in \u001b[0;36mbacon\u001b[1;34m()\u001b[0m\n\u001b[0;32m      5\u001b[0m \u001b[1;33m\u001b[0m\u001b[0m\n\u001b[0;32m      6\u001b[0m \u001b[1;32mdef\u001b[0m \u001b[0mbacon\u001b[0m\u001b[1;33m(\u001b[0m\u001b[1;33m)\u001b[0m\u001b[1;33m:\u001b[0m\u001b[1;33m\u001b[0m\u001b[1;33m\u001b[0m\u001b[0m\n\u001b[1;32m----> 7\u001b[1;33m     \u001b[1;32mraise\u001b[0m \u001b[0mException\u001b[0m\u001b[1;33m(\u001b[0m\u001b[1;34m'This is the error message'\u001b[0m\u001b[1;33m)\u001b[0m\u001b[1;33m\u001b[0m\u001b[1;33m\u001b[0m\u001b[0m\n\u001b[0m\u001b[0;32m      8\u001b[0m \u001b[1;33m\u001b[0m\u001b[0m\n\u001b[0;32m      9\u001b[0m \u001b[0mspam\u001b[0m\u001b[1;33m(\u001b[0m\u001b[1;33m)\u001b[0m\u001b[1;33m\u001b[0m\u001b[1;33m\u001b[0m\u001b[0m\n",
      "\u001b[1;31mException\u001b[0m: This is the error message"
     ]
    }
   ],
   "source": [
    "#errorExample.py\n",
    "\n",
    "def spam():\n",
    "    bacon()\n",
    "    \n",
    "def bacon():\n",
    "    raise Exception('This is the error message')\n",
    "\n",
    "spam()\n",
    "\n"
   ]
  },
  {
   "cell_type": "markdown",
   "metadata": {},
   "source": [
    "### Getting the traceback as a string"
   ]
  },
  {
   "cell_type": "code",
   "execution_count": 9,
   "metadata": {},
   "outputs": [
    {
     "name": "stdout",
     "output_type": "stream",
     "text": [
      "The traceback information was written to errorInfo.txt\n"
     ]
    }
   ],
   "source": [
    "import traceback\n",
    "\n",
    "try:\n",
    "    raise Exception('This is the error message')\n",
    "except:\n",
    "    errorFile = open('errorInfo.txt','w')\n",
    "    errorFile.write(traceback.format_exc())\n",
    "    errorFile.close()\n",
    "    print('The traceback information was written to errorInfo.txt')"
   ]
  },
  {
   "cell_type": "markdown",
   "metadata": {},
   "source": [
    "### Assertions"
   ]
  },
  {
   "cell_type": "code",
   "execution_count": 2,
   "metadata": {},
   "outputs": [
    {
     "ename": "AssertionError",
     "evalue": "The pod bay doors needs to be \"open\"",
     "output_type": "error",
     "traceback": [
      "\u001b[1;31m---------------------------------------------------------------------------\u001b[0m",
      "\u001b[1;31mAssertionError\u001b[0m                            Traceback (most recent call last)",
      "\u001b[1;32m<ipython-input-2-4f0210c4840e>\u001b[0m in \u001b[0;36m<module>\u001b[1;34m\u001b[0m\n\u001b[0;32m      2\u001b[0m \u001b[1;32massert\u001b[0m \u001b[0mpodBayDoorStatus\u001b[0m \u001b[1;33m==\u001b[0m \u001b[1;34m'open'\u001b[0m\u001b[1;33m,\u001b[0m\u001b[1;34m'The pod bay doors needs to be \"open\"'\u001b[0m\u001b[1;33m\u001b[0m\u001b[1;33m\u001b[0m\u001b[0m\n\u001b[0;32m      3\u001b[0m \u001b[0mpodBayDoorStatus\u001b[0m \u001b[1;33m=\u001b[0m \u001b[1;34m'I\\'m sorry, Dave.I\\'m afraid I can\\'t do that.'\u001b[0m\u001b[1;33m\u001b[0m\u001b[1;33m\u001b[0m\u001b[0m\n\u001b[1;32m----> 4\u001b[1;33m \u001b[1;32massert\u001b[0m \u001b[0mpodBayDoorStatus\u001b[0m \u001b[1;33m==\u001b[0m \u001b[1;34m'open'\u001b[0m\u001b[1;33m,\u001b[0m\u001b[1;34m'The pod bay doors needs to be \"open\"'\u001b[0m\u001b[1;33m\u001b[0m\u001b[1;33m\u001b[0m\u001b[0m\n\u001b[0m",
      "\u001b[1;31mAssertionError\u001b[0m: The pod bay doors needs to be \"open\""
     ]
    }
   ],
   "source": [
    "podBayDoorStatus = 'open'\n",
    "assert podBayDoorStatus == 'open','The pod bay doors needs to be \"open\"'\n",
    "podBayDoorStatus = 'I\\'m sorry, Dave.I\\'m afraid I can\\'t do that.'\n",
    "assert podBayDoorStatus == 'open','The pod bay doors needs to be \"open\"'"
   ]
  },
  {
   "cell_type": "markdown",
   "metadata": {},
   "source": [
    "### Logging"
   ]
  },
  {
   "cell_type": "code",
   "execution_count": 1,
   "metadata": {},
   "outputs": [],
   "source": [
    "import logging\n",
    "\n",
    "logging.basicConfig(level=logging.DEBUG, format='%(asctime)s - %(levelname)s - %(message)s')\n"
   ]
  },
  {
   "cell_type": "code",
   "execution_count": 2,
   "metadata": {},
   "outputs": [
    {
     "name": "stderr",
     "output_type": "stream",
     "text": [
      "2020-06-08 06:59:10,905 - DEBUG - Start of the program\n",
      "2020-06-08 06:59:10,913 - DEBUG - Start of factorial(5)\n",
      "2020-06-08 06:59:10,913 - DEBUG - i is 0, total is 0\n",
      "2020-06-08 06:59:10,921 - DEBUG - i is 1, total is 0\n",
      "2020-06-08 06:59:10,921 - DEBUG - i is 2, total is 0\n",
      "2020-06-08 06:59:10,921 - DEBUG - i is 3, total is 0\n",
      "2020-06-08 06:59:10,921 - DEBUG - i is 4, total is 0\n",
      "2020-06-08 06:59:10,921 - DEBUG - i is 5, total is 0\n",
      "2020-06-08 06:59:10,929 - DEBUG - End of factorial(5)\n",
      "2020-06-08 06:59:10,929 - DEBUG - End of program\n"
     ]
    },
    {
     "name": "stdout",
     "output_type": "stream",
     "text": [
      "0\n"
     ]
    }
   ],
   "source": [
    "#factorialLog.py\n",
    "\n",
    "import logging\n",
    "logging.basicConfig(level=logging.DEBUG, format='%(asctime)s - %(levelname)s - %(message)s')\n",
    "logging.debug('Start of the program')\n",
    "\n",
    "def factorial(n):\n",
    "    logging.debug('Start of factorial(%s)' %(n))\n",
    "    total = 1\n",
    "    for i in range(n + 1):\n",
    "        total *= i\n",
    "        logging.debug('i is ' +str(i)+ ', total is '+str(total))\n",
    "    logging.debug('End of factorial(%s)' %(n))\n",
    "    return total\n",
    "    \n",
    "print(factorial(5))\n",
    "logging.debug('End of program')"
   ]
  },
  {
   "cell_type": "code",
   "execution_count": 3,
   "metadata": {},
   "outputs": [
    {
     "name": "stderr",
     "output_type": "stream",
     "text": [
      "2020-06-08 06:59:16,290 - DEBUG - Start of the program\n",
      "2020-06-08 06:59:16,290 - DEBUG - Start of factorial(5)\n",
      "2020-06-08 06:59:16,298 - DEBUG - i is 1, total is 1\n",
      "2020-06-08 06:59:16,298 - DEBUG - i is 2, total is 2\n",
      "2020-06-08 06:59:16,298 - DEBUG - i is 3, total is 6\n",
      "2020-06-08 06:59:16,298 - DEBUG - i is 4, total is 24\n",
      "2020-06-08 06:59:16,306 - DEBUG - i is 5, total is 120\n",
      "2020-06-08 06:59:16,306 - DEBUG - End of factorial(5)\n",
      "2020-06-08 06:59:16,306 - DEBUG - End of program\n"
     ]
    },
    {
     "name": "stdout",
     "output_type": "stream",
     "text": [
      "120\n"
     ]
    }
   ],
   "source": [
    "#factorialLog.py\n",
    "\n",
    "import logging\n",
    "logging.basicConfig(level=logging.DEBUG, format='%(asctime)s - %(levelname)s - %(message)s')\n",
    "logging.debug('Start of the program')\n",
    "\n",
    "def factorial(n):\n",
    "    logging.debug('Start of factorial(%s)' %(n))\n",
    "    total = 1\n",
    "    for i in range(1,n + 1):\n",
    "        total *= i\n",
    "        logging.debug('i is ' +str(i)+ ', total is '+str(total))\n",
    "    logging.debug('End of factorial(%s)' %(n))\n",
    "    return total\n",
    "    \n",
    "print(factorial(5))\n",
    "logging.debug('End of program')"
   ]
  },
  {
   "cell_type": "code",
   "execution_count": 9,
   "metadata": {},
   "outputs": [
    {
     "name": "stderr",
     "output_type": "stream",
     "text": [
      "2020-06-08 07:01:34,178 - DEBUG - Some debugging details\n",
      "2020-06-08 07:01:34,178 - INFO - The logging module is working\n",
      "2020-06-08 07:01:34,178 - WARNING - An error message is about to be logged\n",
      "2020-06-08 07:01:34,186 - ERROR - An error has occured\n",
      "2020-06-08 07:01:34,186 - CRITICAL - The program is unable to recover\n"
     ]
    }
   ],
   "source": [
    "import logging\n",
    "\n",
    "logging.basicConfig(level=logging.DEBUG, format='%(asctime)s - %(levelname)s - %(message)s')\n",
    "logging.debug('Some debugging details')\n",
    "\n",
    "logging.info('The logging module is working')\n",
    "\n",
    "logging.warning('An error message is about to be logged')\n",
    "\n",
    "logging.error('An error has occured')\n",
    "\n",
    "logging.critical('The program is unable to recover')"
   ]
  },
  {
   "cell_type": "code",
   "execution_count": 1,
   "metadata": {},
   "outputs": [
    {
     "name": "stdout",
     "output_type": "stream",
     "text": [
      "0\n"
     ]
    }
   ],
   "source": [
    "#Logging to a file\n",
    "#factorialLog.py\n",
    "\n",
    "import logging\n",
    "logging.basicConfig(filename='factorialLog.txt',level=logging.DEBUG, format='%(asctime)s - %(levelname)s - %(message)s')\n",
    "logging.debug('Start of the program')\n",
    "\n",
    "def factorial(n):\n",
    "    logging.debug('Start of factorial(%s)' %(n))\n",
    "    total = 1\n",
    "    for i in range(n + 1):\n",
    "        total *= i\n",
    "        logging.debug('i is ' +str(i)+ ', total is '+str(total))\n",
    "    logging.debug('End of factorial(%s)' %(n))\n",
    "    return total\n",
    "    \n",
    "print(factorial(5))\n",
    "logging.debug('End of program')"
   ]
  },
  {
   "cell_type": "code",
   "execution_count": 3,
   "metadata": {},
   "outputs": [],
   "source": [
    "#Disable Logging\n",
    "\n",
    "import logging\n",
    "logging.basicConfig(level=logging.INFO,format = ' %(asctime)s - %(levelname)s - %(message)s')\n",
    "\n",
    "logging.critical('Critical Error ! Critical Error !')\n",
    "\n",
    "logging.disable(logging.CRITICAL)\n",
    "logging.critical('Critical Error ! Critical Error !')\n",
    "\n",
    "logging.error('Error ! Error !')"
   ]
  },
  {
   "cell_type": "code",
   "execution_count": 7,
   "metadata": {},
   "outputs": [
    {
     "name": "stdout",
     "output_type": "stream",
     "text": [
      "Enter the first number to add\n",
      "3\n",
      "Enter the second number to add\n",
      "4\n",
      "Enter the third number to add\n",
      "5\n",
      "The sum is 345\n"
     ]
    }
   ],
   "source": [
    "print('Enter the first number to add')\n",
    "first = input()\n",
    "print('Enter the second number to add')\n",
    "second = input()\n",
    "print('Enter the third number to add')\n",
    "third = input()\n",
    "print('The sum is '+first+second+third)"
   ]
  }
 ],
 "metadata": {
  "kernelspec": {
   "display_name": "Python 3",
   "language": "python",
   "name": "python3"
  },
  "language_info": {
   "codemirror_mode": {
    "name": "ipython",
    "version": 3
   },
   "file_extension": ".py",
   "mimetype": "text/x-python",
   "name": "python",
   "nbconvert_exporter": "python",
   "pygments_lexer": "ipython3",
   "version": "3.7.1"
  }
 },
 "nbformat": 4,
 "nbformat_minor": 2
}
