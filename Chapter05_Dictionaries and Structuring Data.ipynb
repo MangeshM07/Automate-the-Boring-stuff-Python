{
 "cells": [
  {
   "cell_type": "code",
   "execution_count": 2,
   "metadata": {},
   "outputs": [
    {
     "data": {
      "text/plain": [
       "{'size': 'fat', 'color': 'gray', 'disposition': 'loud'}"
      ]
     },
     "execution_count": 2,
     "metadata": {},
     "output_type": "execute_result"
    }
   ],
   "source": [
    "myCat = {'size':'fat','color':'gray','disposition':'loud'}\n",
    "myCat"
   ]
  },
  {
   "cell_type": "code",
   "execution_count": 3,
   "metadata": {},
   "outputs": [
    {
     "data": {
      "text/plain": [
       "'fat'"
      ]
     },
     "execution_count": 3,
     "metadata": {},
     "output_type": "execute_result"
    }
   ],
   "source": [
    "myCat['size']"
   ]
  },
  {
   "cell_type": "code",
   "execution_count": 4,
   "metadata": {},
   "outputs": [
    {
     "data": {
      "text/plain": [
       "False"
      ]
     },
     "execution_count": 4,
     "metadata": {},
     "output_type": "execute_result"
    }
   ],
   "source": [
    "spam = ['cats','dogs','moose']\n",
    "bacon = ['moose','cats','dogs']\n",
    "\n",
    "spam == bacon"
   ]
  },
  {
   "cell_type": "code",
   "execution_count": 5,
   "metadata": {},
   "outputs": [
    {
     "data": {
      "text/plain": [
       "True"
      ]
     },
     "execution_count": 5,
     "metadata": {},
     "output_type": "execute_result"
    }
   ],
   "source": [
    "eggs = {'name':'Zophie','species':'cat','age':'8'}\n",
    "ham = {'species':'cat','age':'8','name':'Zophie'}\n",
    "\n",
    "eggs == ham"
   ]
  },
  {
   "cell_type": "code",
   "execution_count": 6,
   "metadata": {},
   "outputs": [
    {
     "name": "stdout",
     "output_type": "stream",
     "text": [
      "Enter a name : (blank to quit)\n",
      "bob\n",
      "I do not have birthday onformation for bob\n",
      "what is their birthday?\n",
      "\n",
      "Birthday database updated\n",
      "Enter a name : (blank to quit)\n",
      "bob\n",
      " is the birthday of bob\n",
      "Enter a name : (blank to quit)\n",
      "Bob\n",
      "Dec 12 is the birthday of Bob\n",
      "Enter a name : (blank to quit)\n",
      "Bob\n",
      "Dec 12 is the birthday of Bob\n",
      "Enter a name : (blank to quit)\n",
      "\n"
     ]
    }
   ],
   "source": [
    "#birthday program\n",
    "\n",
    "birthdays = {'Alice':'Apr 1','Bob':'Dec 12','Carol':'Mar 4'}\n",
    "\n",
    "while True:\n",
    "    print('Enter a name : (blank to quit)')\n",
    "    name = input()\n",
    "    \n",
    "    if name == '':\n",
    "        break\n",
    "    \n",
    "    if name in birthdays:\n",
    "        print(birthdays[name] + ' is the birthday of '+name)\n",
    "    else:\n",
    "        print('I do not have birthday onformation for '+name)\n",
    "        print('what is their birthday?')\n",
    "        bday = input()\n",
    "        birthdays[name] = bday\n",
    "        print('Birthday database updated')"
   ]
  },
  {
   "cell_type": "code",
   "execution_count": 9,
   "metadata": {},
   "outputs": [
    {
     "name": "stdout",
     "output_type": "stream",
     "text": [
      "red\n",
      "42\n"
     ]
    }
   ],
   "source": [
    "spam = {'color':'red','age':42}\n",
    "for v in spam.values():\n",
    "    print(v)"
   ]
  },
  {
   "cell_type": "code",
   "execution_count": 11,
   "metadata": {},
   "outputs": [
    {
     "name": "stdout",
     "output_type": "stream",
     "text": [
      "color\n",
      "age\n"
     ]
    }
   ],
   "source": [
    "for k in spam.keys():\n",
    "    print(k)"
   ]
  },
  {
   "cell_type": "code",
   "execution_count": 12,
   "metadata": {},
   "outputs": [
    {
     "name": "stdout",
     "output_type": "stream",
     "text": [
      "('color', 'red')\n",
      "('age', 42)\n"
     ]
    }
   ],
   "source": [
    "for i in spam.items():\n",
    "    print(i)"
   ]
  },
  {
   "cell_type": "code",
   "execution_count": 13,
   "metadata": {},
   "outputs": [
    {
     "data": {
      "text/plain": [
       "dict_keys(['color', 'age'])"
      ]
     },
     "execution_count": 13,
     "metadata": {},
     "output_type": "execute_result"
    }
   ],
   "source": [
    "spam.keys()"
   ]
  },
  {
   "cell_type": "code",
   "execution_count": 14,
   "metadata": {},
   "outputs": [
    {
     "data": {
      "text/plain": [
       "['color', 'age']"
      ]
     },
     "execution_count": 14,
     "metadata": {},
     "output_type": "execute_result"
    }
   ],
   "source": [
    "list(spam.keys())"
   ]
  },
  {
   "cell_type": "code",
   "execution_count": 15,
   "metadata": {},
   "outputs": [
    {
     "data": {
      "text/plain": [
       "['red', 42]"
      ]
     },
     "execution_count": 15,
     "metadata": {},
     "output_type": "execute_result"
    }
   ],
   "source": [
    "list(spam.values())"
   ]
  },
  {
   "cell_type": "code",
   "execution_count": 16,
   "metadata": {},
   "outputs": [
    {
     "data": {
      "text/plain": [
       "[('color', 'red'), ('age', 42)]"
      ]
     },
     "execution_count": 16,
     "metadata": {},
     "output_type": "execute_result"
    }
   ],
   "source": [
    "list(spam.items())"
   ]
  },
  {
   "cell_type": "code",
   "execution_count": 21,
   "metadata": {},
   "outputs": [
    {
     "name": "stdout",
     "output_type": "stream",
     "text": [
      "Key: color Value: red\n",
      "Key: age Value: 42\n"
     ]
    }
   ],
   "source": [
    "spam = {'color':'red','age':42}\n",
    "for k,v in spam.items():\n",
    "    print('Key: '+ k + ' Value: '+ str(v))"
   ]
  },
  {
   "cell_type": "code",
   "execution_count": 8,
   "metadata": {},
   "outputs": [
    {
     "data": {
      "text/plain": [
       "True"
      ]
     },
     "execution_count": 8,
     "metadata": {},
     "output_type": "execute_result"
    }
   ],
   "source": [
    "spam = {'name':'Zophie','age':7}\n",
    "'name' in spam.keys()"
   ]
  },
  {
   "cell_type": "code",
   "execution_count": 25,
   "metadata": {},
   "outputs": [
    {
     "data": {
      "text/plain": [
       "True"
      ]
     },
     "execution_count": 25,
     "metadata": {},
     "output_type": "execute_result"
    }
   ],
   "source": [
    "'Zophie' in spam.values()"
   ]
  },
  {
   "cell_type": "code",
   "execution_count": 26,
   "metadata": {},
   "outputs": [
    {
     "data": {
      "text/plain": [
       "False"
      ]
     },
     "execution_count": 26,
     "metadata": {},
     "output_type": "execute_result"
    }
   ],
   "source": [
    "'color' in spam.keys()"
   ]
  },
  {
   "cell_type": "code",
   "execution_count": 9,
   "metadata": {},
   "outputs": [
    {
     "data": {
      "text/plain": [
       "False"
      ]
     },
     "execution_count": 9,
     "metadata": {},
     "output_type": "execute_result"
    }
   ],
   "source": [
    "'Zophie' in spam"
   ]
  },
  {
   "cell_type": "code",
   "execution_count": 35,
   "metadata": {},
   "outputs": [
    {
     "data": {
      "text/plain": [
       "'I am bringing 2 cups.'"
      ]
     },
     "execution_count": 35,
     "metadata": {},
     "output_type": "execute_result"
    }
   ],
   "source": [
    "picnicItems = {'apples':5,'cups':2}\n",
    "'I am bringing '+str(picnicItems.get('cups',0)) + ' cups.'"
   ]
  },
  {
   "cell_type": "code",
   "execution_count": 36,
   "metadata": {},
   "outputs": [
    {
     "data": {
      "text/plain": [
       "'I am bringing 0 jars.'"
      ]
     },
     "execution_count": 36,
     "metadata": {},
     "output_type": "execute_result"
    }
   ],
   "source": [
    "picnicItems = {'apples':5,'cups':2}\n",
    "'I am bringing '+str(picnicItems.get('jars',0)) + ' jars.'"
   ]
  },
  {
   "cell_type": "code",
   "execution_count": 39,
   "metadata": {},
   "outputs": [],
   "source": [
    "#Assigning default values in dictionary \n",
    "spam = {'name':'pooka','age':5}\n",
    "if 'color' not in spam:\n",
    "    spam['color']='black'"
   ]
  },
  {
   "cell_type": "code",
   "execution_count": 40,
   "metadata": {},
   "outputs": [
    {
     "data": {
      "text/plain": [
       "{'name': 'pooka', 'age': 5, 'color': 'black'}"
      ]
     },
     "execution_count": 40,
     "metadata": {},
     "output_type": "execute_result"
    }
   ],
   "source": [
    "#Assigning default values in dictionary \n",
    "spam = {'name':'pooka','age':5}\n",
    "spam.setdefault('color','black')\n",
    "spam"
   ]
  },
  {
   "cell_type": "code",
   "execution_count": 42,
   "metadata": {},
   "outputs": [
    {
     "data": {
      "text/plain": [
       "{'name': 'pooka', 'age': 5, 'color': 'black'}"
      ]
     },
     "execution_count": 42,
     "metadata": {},
     "output_type": "execute_result"
    }
   ],
   "source": [
    "#Since color is already set to black,calling setdefault will retrun black\n",
    "spam.setdefault('color','white')\n",
    "spam"
   ]
  },
  {
   "cell_type": "code",
   "execution_count": 44,
   "metadata": {},
   "outputs": [
    {
     "name": "stdout",
     "output_type": "stream",
     "text": [
      "{'I': 1, 't': 6, ' ': 12, 'w': 2, 'a': 4, 's': 3, 'b': 1, 'r': 5, 'i': 6, 'g': 2, 'h': 3, 'c': 3, 'o': 2, 'l': 3, 'd': 3, 'y': 1, 'n': 4, 'A': 1, 'p': 1, ',': 1, 'e': 5, 'k': 2}\n"
     ]
    }
   ],
   "source": [
    "#Program to count occurence of each string\n",
    "message = 'It was a bright cold day in April,and the clocks were striking thirteen'\n",
    "count={}\n",
    "\n",
    "for character in message:\n",
    "    count.setdefault(character,0)\n",
    "    count[character] = count[character]+1\n",
    "    \n",
    "print(count)"
   ]
  },
  {
   "cell_type": "code",
   "execution_count": 47,
   "metadata": {},
   "outputs": [
    {
     "name": "stdout",
     "output_type": "stream",
     "text": [
      "{' ': 12,\n",
      " ',': 1,\n",
      " 'A': 1,\n",
      " 'I': 1,\n",
      " 'a': 4,\n",
      " 'b': 1,\n",
      " 'c': 3,\n",
      " 'd': 3,\n",
      " 'e': 5,\n",
      " 'g': 2,\n",
      " 'h': 3,\n",
      " 'i': 6,\n",
      " 'k': 2,\n",
      " 'l': 3,\n",
      " 'n': 4,\n",
      " 'o': 2,\n",
      " 'p': 1,\n",
      " 'r': 5,\n",
      " 's': 3,\n",
      " 't': 6,\n",
      " 'w': 2,\n",
      " 'y': 1}\n"
     ]
    }
   ],
   "source": [
    "#Executing above program with pprint module\n",
    "import pprint\n",
    "message = 'It was a bright cold day in April,and the clocks were striking thirteen'\n",
    "count={}\n",
    "\n",
    "for character in message:\n",
    "    count.setdefault(character,0)\n",
    "    count[character] = count[character]+1\n",
    "    \n",
    "#pprint.pprint(count)\n",
    "print(pprint.pformat(count))"
   ]
  },
  {
   "cell_type": "code",
   "execution_count": 1,
   "metadata": {},
   "outputs": [
    {
     "name": "stdout",
     "output_type": "stream",
     "text": [
      "   |     |   \n",
      "---+-----+---\n",
      "   |     |   \n",
      "---+-----+---\n",
      "   |     |   \n",
      "---+-----+---\n",
      "Turn for X.Move on which space?\n",
      "mid-M\n",
      "   |     |   \n",
      "---+-----+---\n",
      "   |  X  |   \n",
      "---+-----+---\n",
      "   |     |   \n",
      "---+-----+---\n",
      "Turn for O.Move on which space?\n",
      "top-L\n",
      "O  |     |   \n",
      "---+-----+---\n",
      "   |  X  |   \n",
      "---+-----+---\n",
      "   |     |   \n",
      "---+-----+---\n",
      "Turn for X.Move on which space?\n",
      "top-R\n",
      "O  |     |  X\n",
      "---+-----+---\n",
      "   |  X  |   \n",
      "---+-----+---\n",
      "   |     |   \n",
      "---+-----+---\n",
      "Turn for O.Move on which space?\n",
      "low-L\n",
      "O  |     |  X\n",
      "---+-----+---\n",
      "   |  X  |   \n",
      "---+-----+---\n",
      "O  |     |   \n",
      "---+-----+---\n",
      "Turn for X.Move on which space?\n",
      "mid-M\n",
      "O  |     |  X\n",
      "---+-----+---\n",
      "   |  X  |   \n",
      "---+-----+---\n",
      "O  |     |   \n",
      "---+-----+---\n",
      "Turn for O.Move on which space?\n",
      "top-L\n",
      "O  |     |  X\n",
      "---+-----+---\n",
      "   |  X  |   \n",
      "---+-----+---\n",
      "O  |     |   \n",
      "---+-----+---\n",
      "Turn for X.Move on which space?\n",
      "mid-L\n",
      "O  |     |  X\n",
      "---+-----+---\n",
      "X  |  X  |   \n",
      "---+-----+---\n",
      "O  |     |   \n",
      "---+-----+---\n",
      "Turn for O.Move on which space?\n",
      "mid-R\n",
      "O  |     |  X\n",
      "---+-----+---\n",
      "X  |  X  |  O\n",
      "---+-----+---\n",
      "O  |     |   \n",
      "---+-----+---\n",
      "Turn for X.Move on which space?\n",
      "top-M\n",
      "O  |  X  |  X\n",
      "---+-----+---\n",
      "X  |  X  |  O\n",
      "---+-----+---\n",
      "O  |     |   \n",
      "---+-----+---\n"
     ]
    }
   ],
   "source": [
    "#Tic-Tac-Toe Board\n",
    "\n",
    "theBoard = {'top-L':' ','top-M':' ','top-R':' ',\n",
    "            'mid-L':' ','mid-M':' ','mid-R':' ',\n",
    "            'low-L':' ','low-M':' ','low-R':' '}    \n",
    "\n",
    "\n",
    "def printBoard(board):\n",
    "    print(board['top-L'] + '  |  ' + board['top-M'] + '  |  ' +board['top-R'])\n",
    "    print('---+-----+---')\n",
    "    print(board['mid-L'] + '  |  ' + board['mid-M'] + '  |  ' +board['mid-R'])\n",
    "    print('---+-----+---')\n",
    "    print(board['low-L'] + '  |  ' + board['low-M'] + '  |  ' +board['low-R'])\n",
    "    print('---+-----+---')\n",
    "        \n",
    "        \n",
    "turn = 'X'\n",
    "\n",
    "for i in range(9):\n",
    "    printBoard(theBoard)\n",
    "    print('Turn for ' + turn + '.Move on which space?')\n",
    "    move = input()\n",
    "    theBoard[move] = turn\n",
    "    if turn == 'X':\n",
    "        turn = 'O'\n",
    "    else:\n",
    "        turn = 'X'\n",
    "        \n",
    "printBoard(theBoard)  "
   ]
  },
  {
   "cell_type": "code",
   "execution_count": 6,
   "metadata": {},
   "outputs": [
    {
     "name": "stdout",
     "output_type": "stream",
     "text": [
      "Number of things being brought\n",
      "  - Apples :7\n",
      "  - Cups :3\n",
      "  - Pretzels :12\n",
      "  - Ham Sandwiches :3\n",
      "  - Apple Pies :2\n"
     ]
    }
   ],
   "source": [
    "#Nested Dictionaries\n",
    "\n",
    "allGuests = {'Alice':{'apples':5,'pretzels':12},\n",
    "            'Bob':{'ham sandwiches':3,'apples':2},\n",
    "            'Carol':{'cups':3,'apple pies':2}}\n",
    "\n",
    "def totalBrought(guests,item):\n",
    "    numBrought = 0\n",
    "    for k,v in guests.items():\n",
    "        numBrought = numBrought + v.get(item,0)\n",
    "    return numBrought\n",
    "\n",
    "print('Number of things being brought')\n",
    "print('  - Apples :' + str(totalBrought(allGuests,'apples')))\n",
    "print('  - Cups :' + str(totalBrought(allGuests,'cups')))\n",
    "print('  - Pretzels :' + str(totalBrought(allGuests,'pretzels')))\n",
    "print('  - Ham Sandwiches :' + str(totalBrought(allGuests,'ham sandwiches')))\n",
    "print('  - Apple Pies :' + str(totalBrought(allGuests,'apple pies')))"
   ]
  }
 ],
 "metadata": {
  "kernelspec": {
   "display_name": "Python 3",
   "language": "python",
   "name": "python3"
  },
  "language_info": {
   "codemirror_mode": {
    "name": "ipython",
    "version": 3
   },
   "file_extension": ".py",
   "mimetype": "text/x-python",
   "name": "python",
   "nbconvert_exporter": "python",
   "pygments_lexer": "ipython3",
   "version": "3.7.1"
  }
 },
 "nbformat": 4,
 "nbformat_minor": 2
}
