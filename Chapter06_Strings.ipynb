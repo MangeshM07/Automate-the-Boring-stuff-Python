{
 "cells": [
  {
   "cell_type": "code",
   "execution_count": 1,
   "metadata": {},
   "outputs": [],
   "source": [
    "spam = 'Hello World!!'"
   ]
  },
  {
   "cell_type": "code",
   "execution_count": 2,
   "metadata": {},
   "outputs": [
    {
     "data": {
      "text/plain": [
       "True"
      ]
     },
     "execution_count": 2,
     "metadata": {},
     "output_type": "execute_result"
    }
   ],
   "source": [
    "spam.upper().isupper()"
   ]
  },
  {
   "cell_type": "code",
   "execution_count": 3,
   "metadata": {},
   "outputs": [
    {
     "data": {
      "text/plain": [
       "'hello world!!'"
      ]
     },
     "execution_count": 3,
     "metadata": {},
     "output_type": "execute_result"
    }
   ],
   "source": [
    "spam.lower()"
   ]
  },
  {
   "cell_type": "code",
   "execution_count": 4,
   "metadata": {},
   "outputs": [
    {
     "name": "stdout",
     "output_type": "stream",
     "text": [
      "Hello, How are you ?\n",
      "GrEat\n",
      "Nice\n"
     ]
    }
   ],
   "source": [
    "print('Hello, How are you ?')\n",
    "feeling = input()\n",
    "if feeling.lower()=='great':\n",
    "    print('Nice')\n",
    "else:\n",
    "    print('Have a great day ahead')"
   ]
  },
  {
   "cell_type": "markdown",
   "metadata": {},
   "source": [
    "## isX Method"
   ]
  },
  {
   "cell_type": "code",
   "execution_count": 1,
   "metadata": {},
   "outputs": [
    {
     "data": {
      "text/plain": [
       "True"
      ]
     },
     "execution_count": 1,
     "metadata": {},
     "output_type": "execute_result"
    }
   ],
   "source": [
    "'hello'.isalpha()"
   ]
  },
  {
   "cell_type": "code",
   "execution_count": 2,
   "metadata": {},
   "outputs": [
    {
     "data": {
      "text/plain": [
       "False"
      ]
     },
     "execution_count": 2,
     "metadata": {},
     "output_type": "execute_result"
    }
   ],
   "source": [
    "'hello123'.isalpha()"
   ]
  },
  {
   "cell_type": "code",
   "execution_count": 3,
   "metadata": {},
   "outputs": [
    {
     "data": {
      "text/plain": [
       "True"
      ]
     },
     "execution_count": 3,
     "metadata": {},
     "output_type": "execute_result"
    }
   ],
   "source": [
    "'hello123'.isalnum()"
   ]
  },
  {
   "cell_type": "code",
   "execution_count": 4,
   "metadata": {},
   "outputs": [
    {
     "data": {
      "text/plain": [
       "True"
      ]
     },
     "execution_count": 4,
     "metadata": {},
     "output_type": "execute_result"
    }
   ],
   "source": [
    "'hello'.isalnum()"
   ]
  },
  {
   "cell_type": "code",
   "execution_count": 11,
   "metadata": {},
   "outputs": [
    {
     "data": {
      "text/plain": [
       "True"
      ]
     },
     "execution_count": 11,
     "metadata": {},
     "output_type": "execute_result"
    }
   ],
   "source": [
    "'123'.isdecimal()"
   ]
  },
  {
   "cell_type": "code",
   "execution_count": 12,
   "metadata": {},
   "outputs": [
    {
     "data": {
      "text/plain": [
       "False"
      ]
     },
     "execution_count": 12,
     "metadata": {},
     "output_type": "execute_result"
    }
   ],
   "source": [
    "'123.456'.isdecimal()"
   ]
  },
  {
   "cell_type": "code",
   "execution_count": 6,
   "metadata": {},
   "outputs": [
    {
     "data": {
      "text/plain": [
       "True"
      ]
     },
     "execution_count": 6,
     "metadata": {},
     "output_type": "execute_result"
    }
   ],
   "source": [
    "'   '.isspace()"
   ]
  },
  {
   "cell_type": "code",
   "execution_count": 7,
   "metadata": {},
   "outputs": [
    {
     "data": {
      "text/plain": [
       "True"
      ]
     },
     "execution_count": 7,
     "metadata": {},
     "output_type": "execute_result"
    }
   ],
   "source": [
    "'This Is Title Case'.istitle()"
   ]
  },
  {
   "cell_type": "code",
   "execution_count": 8,
   "metadata": {},
   "outputs": [
    {
     "data": {
      "text/plain": [
       "False"
      ]
     },
     "execution_count": 8,
     "metadata": {},
     "output_type": "execute_result"
    }
   ],
   "source": [
    "'This Is Title case 123'.istitle()"
   ]
  },
  {
   "cell_type": "code",
   "execution_count": 9,
   "metadata": {},
   "outputs": [
    {
     "data": {
      "text/plain": [
       "False"
      ]
     },
     "execution_count": 9,
     "metadata": {},
     "output_type": "execute_result"
    }
   ],
   "source": [
    "'This Is not Ttile case'.istitle()"
   ]
  },
  {
   "cell_type": "code",
   "execution_count": 10,
   "metadata": {},
   "outputs": [
    {
     "data": {
      "text/plain": [
       "False"
      ]
     },
     "execution_count": 10,
     "metadata": {},
     "output_type": "execute_result"
    }
   ],
   "source": [
    "'This Is NOT Title Case Either'.istitle()"
   ]
  },
  {
   "cell_type": "code",
   "execution_count": 17,
   "metadata": {},
   "outputs": [
    {
     "name": "stdout",
     "output_type": "stream",
     "text": [
      "Enter your age :\n",
      "forty two\n",
      "Enter a number for your age\n",
      "Enter your age :\n",
      "42\n",
      "Select a new password(letter and numbers only):\n",
      "Secr3t!\n",
      "Passwords can ponly have letters and numbers\n",
      "Select a new password(letter and numbers only):\n",
      "Secr3t\n"
     ]
    }
   ],
   "source": [
    "\n",
    "\n",
    "while True:\n",
    "    print('Enter your age :')\n",
    "    age = input()\n",
    "    if age.isdecimal():\n",
    "        break\n",
    "    print('Enter a number for your age')\n",
    "    \n",
    "while True:\n",
    "    print('Select a new password(letter and numbers only):')\n",
    "    password = input()\n",
    "    if password.isalnum():\n",
    "        break\n",
    "    print('Passwords can only have letters and numbers')"
   ]
  },
  {
   "cell_type": "markdown",
   "metadata": {},
   "source": [
    "# #The startswith() and endswith() String Methods "
   ]
  },
  {
   "cell_type": "code",
   "execution_count": 19,
   "metadata": {},
   "outputs": [
    {
     "data": {
      "text/plain": [
       "True"
      ]
     },
     "execution_count": 19,
     "metadata": {},
     "output_type": "execute_result"
    }
   ],
   "source": [
    "'hello world'.startswith('hello')"
   ]
  },
  {
   "cell_type": "code",
   "execution_count": 21,
   "metadata": {},
   "outputs": [
    {
     "data": {
      "text/plain": [
       "True"
      ]
     },
     "execution_count": 21,
     "metadata": {},
     "output_type": "execute_result"
    }
   ],
   "source": [
    "'hello world'.endswith('world')"
   ]
  },
  {
   "cell_type": "code",
   "execution_count": 22,
   "metadata": {},
   "outputs": [
    {
     "data": {
      "text/plain": [
       "False"
      ]
     },
     "execution_count": 22,
     "metadata": {},
     "output_type": "execute_result"
    }
   ],
   "source": [
    "'abc123'.startswith('abcdef')"
   ]
  },
  {
   "cell_type": "code",
   "execution_count": 23,
   "metadata": {},
   "outputs": [
    {
     "data": {
      "text/plain": [
       "False"
      ]
     },
     "execution_count": 23,
     "metadata": {},
     "output_type": "execute_result"
    }
   ],
   "source": [
    "'abc123'.endswith('12')"
   ]
  },
  {
   "cell_type": "code",
   "execution_count": 25,
   "metadata": {},
   "outputs": [
    {
     "data": {
      "text/plain": [
       "True"
      ]
     },
     "execution_count": 25,
     "metadata": {},
     "output_type": "execute_result"
    }
   ],
   "source": [
    "'Hello World!!'.startswith('Hello World!!')"
   ]
  },
  {
   "cell_type": "code",
   "execution_count": 26,
   "metadata": {},
   "outputs": [
    {
     "data": {
      "text/plain": [
       "True"
      ]
     },
     "execution_count": 26,
     "metadata": {},
     "output_type": "execute_result"
    }
   ],
   "source": [
    "'Hello World!!'.endswith('Hello World!!')"
   ]
  },
  {
   "cell_type": "markdown",
   "metadata": {},
   "source": [
    "## The join() and split() string methods"
   ]
  },
  {
   "cell_type": "code",
   "execution_count": 28,
   "metadata": {},
   "outputs": [
    {
     "data": {
      "text/plain": [
       "'cats,dogs,rats'"
      ]
     },
     "execution_count": 28,
     "metadata": {},
     "output_type": "execute_result"
    }
   ],
   "source": [
    "','.join(['cats','dogs','rats'])"
   ]
  },
  {
   "cell_type": "code",
   "execution_count": 31,
   "metadata": {},
   "outputs": [
    {
     "data": {
      "text/plain": [
       "'MyABCnameABCisABCjohn'"
      ]
     },
     "execution_count": 31,
     "metadata": {},
     "output_type": "execute_result"
    }
   ],
   "source": [
    "'ABC'.join(['My','name','is','john'])"
   ]
  },
  {
   "cell_type": "code",
   "execution_count": 32,
   "metadata": {},
   "outputs": [
    {
     "data": {
      "text/plain": [
       "['My', 'name', 'is', 'simon']"
      ]
     },
     "execution_count": 32,
     "metadata": {},
     "output_type": "execute_result"
    }
   ],
   "source": [
    "'My name is simon'.split()"
   ]
  },
  {
   "cell_type": "code",
   "execution_count": 33,
   "metadata": {},
   "outputs": [
    {
     "data": {
      "text/plain": [
       "['My', 'name', 'is', 'john']"
      ]
     },
     "execution_count": 33,
     "metadata": {},
     "output_type": "execute_result"
    }
   ],
   "source": [
    "'MyABCnameABCisABCjohn'.split('ABC')"
   ]
  },
  {
   "cell_type": "code",
   "execution_count": 36,
   "metadata": {},
   "outputs": [
    {
     "data": {
      "text/plain": [
       "['Dear Alice,',\n",
       " 'How have you been ? Iam fine.',\n",
       " 'There is a container in the fridge',\n",
       " 'that is labelled \"Milk Experiment\"',\n",
       " '        ',\n",
       " 'Please do nnot drink it.',\n",
       " 'Sincerely,',\n",
       " 'Bob']"
      ]
     },
     "execution_count": 36,
     "metadata": {},
     "output_type": "execute_result"
    }
   ],
   "source": [
    "spam = '''Dear Alice,\n",
    "How have you been ? Iam fine.\n",
    "There is a container in the fridge\n",
    "that is labelled \"Milk Experiment\"\n",
    "        \n",
    "Please do not drink it.\n",
    "Sincerely,\n",
    "Bob'''\n",
    "\n",
    "spam.split('\\n')"
   ]
  },
  {
   "cell_type": "markdown",
   "metadata": {},
   "source": [
    "## Justifyting Text with ljust(),rjust()  and center()"
   ]
  },
  {
   "cell_type": "code",
   "execution_count": 37,
   "metadata": {},
   "outputs": [
    {
     "data": {
      "text/plain": [
       "'     Hello'"
      ]
     },
     "execution_count": 37,
     "metadata": {},
     "output_type": "execute_result"
    }
   ],
   "source": [
    "'Hello'.rjust(10)"
   ]
  },
  {
   "cell_type": "code",
   "execution_count": 38,
   "metadata": {},
   "outputs": [
    {
     "data": {
      "text/plain": [
       "'               Hello'"
      ]
     },
     "execution_count": 38,
     "metadata": {},
     "output_type": "execute_result"
    }
   ],
   "source": [
    "'Hello'.rjust(20)"
   ]
  },
  {
   "cell_type": "code",
   "execution_count": 39,
   "metadata": {},
   "outputs": [
    {
     "data": {
      "text/plain": [
       "'Hello World'"
      ]
     },
     "execution_count": 39,
     "metadata": {},
     "output_type": "execute_result"
    }
   ],
   "source": [
    "'Hello World'.rjust(10)"
   ]
  },
  {
   "cell_type": "code",
   "execution_count": 40,
   "metadata": {},
   "outputs": [
    {
     "data": {
      "text/plain": [
       "'         Hello World'"
      ]
     },
     "execution_count": 40,
     "metadata": {},
     "output_type": "execute_result"
    }
   ],
   "source": [
    "'Hello World'.rjust(20)"
   ]
  },
  {
   "cell_type": "code",
   "execution_count": 41,
   "metadata": {},
   "outputs": [
    {
     "data": {
      "text/plain": [
       "'Hello     '"
      ]
     },
     "execution_count": 41,
     "metadata": {},
     "output_type": "execute_result"
    }
   ],
   "source": [
    "'Hello'.ljust(10)"
   ]
  },
  {
   "cell_type": "code",
   "execution_count": 43,
   "metadata": {},
   "outputs": [
    {
     "data": {
      "text/plain": [
       "'*****Hello'"
      ]
     },
     "execution_count": 43,
     "metadata": {},
     "output_type": "execute_result"
    }
   ],
   "source": [
    "'Hello'.rjust(10,'*')"
   ]
  },
  {
   "cell_type": "code",
   "execution_count": 44,
   "metadata": {},
   "outputs": [
    {
     "data": {
      "text/plain": [
       "'Hello*****'"
      ]
     },
     "execution_count": 44,
     "metadata": {},
     "output_type": "execute_result"
    }
   ],
   "source": [
    "'Hello'.ljust(10,'*')"
   ]
  },
  {
   "cell_type": "code",
   "execution_count": 45,
   "metadata": {},
   "outputs": [
    {
     "data": {
      "text/plain": [
       "'       Hello        '"
      ]
     },
     "execution_count": 45,
     "metadata": {},
     "output_type": "execute_result"
    }
   ],
   "source": [
    "'Hello'.center(20)"
   ]
  },
  {
   "cell_type": "code",
   "execution_count": 48,
   "metadata": {},
   "outputs": [
    {
     "data": {
      "text/plain": [
       "'=======Hello========'"
      ]
     },
     "execution_count": 48,
     "metadata": {},
     "output_type": "execute_result"
    }
   ],
   "source": [
    "'Hello'.center(20,'=')"
   ]
  },
  {
   "cell_type": "code",
   "execution_count": 51,
   "metadata": {},
   "outputs": [
    {
     "name": "stdout",
     "output_type": "stream",
     "text": [
      "---PICNIC ITEMS--\n",
      "sandwiches..    4\n",
      "apples......   12\n",
      "cups........    4\n",
      "cookies..... 8000\n",
      "-------PICNIC ITEMS-------\n",
      "sandwiches..........     4\n",
      "apples..............    12\n",
      "cups................     4\n",
      "cookies.............  8000\n"
     ]
    }
   ],
   "source": [
    "def printPicnic(itemDict,leftWidth,rightWidth):\n",
    "    print('PICNIC ITEMS'.center(leftWidth + rightWidth , '-'))\n",
    "    for k,v in itemDict.items():\n",
    "        print(k.ljust(leftWidth,'.') + str(v).rjust(rightWidth))\n",
    "        \n",
    "picnicItems = {'sandwiches': 4 , 'apples':12 , 'cups':4 , 'cookies':8000}\n",
    "printPicnic(picnicItems,12,5)\n",
    "printPicnic(picnicItems,20,6)"
   ]
  },
  {
   "cell_type": "code",
   "execution_count": 2,
   "metadata": {},
   "outputs": [
    {
     "name": "stdout",
     "output_type": "stream",
     "text": [
      "---PICNIC ITMES--\n",
      "Sandwiches..    8\n",
      "Apples......    4\n",
      "Pears.......    5\n",
      "Cookies..... 8000\n"
     ]
    }
   ],
   "source": [
    "def printPicnic(picnic,leftWidth,rightWidth):\n",
    "    print('PICNIC ITMES'.center(leftWidth + rightWidth,'-'))\n",
    "    for k,v in picnic.items():\n",
    "        print(k.ljust(leftWidth,'.') + str(v).rjust(rightWidth))\n",
    "\n",
    "picnicItems = {'Sandwiches':8, 'Apples':4 , 'Pears':5 , 'Cookies':8000}\n",
    "\n",
    "printPicnic(picnicItems,12,5)"
   ]
  },
  {
   "cell_type": "markdown",
   "metadata": {},
   "source": [
    "## strip(), lstrip(),rstrip()"
   ]
  },
  {
   "cell_type": "code",
   "execution_count": 3,
   "metadata": {},
   "outputs": [],
   "source": [
    "spam = '   Hello World      '"
   ]
  },
  {
   "cell_type": "code",
   "execution_count": 4,
   "metadata": {},
   "outputs": [
    {
     "data": {
      "text/plain": [
       "'Hello World'"
      ]
     },
     "execution_count": 4,
     "metadata": {},
     "output_type": "execute_result"
    }
   ],
   "source": [
    "spam.strip()"
   ]
  },
  {
   "cell_type": "code",
   "execution_count": 5,
   "metadata": {},
   "outputs": [
    {
     "data": {
      "text/plain": [
       "'Hello World      '"
      ]
     },
     "execution_count": 5,
     "metadata": {},
     "output_type": "execute_result"
    }
   ],
   "source": [
    "spam.lstrip()"
   ]
  },
  {
   "cell_type": "code",
   "execution_count": 6,
   "metadata": {},
   "outputs": [
    {
     "data": {
      "text/plain": [
       "'   Hello World'"
      ]
     },
     "execution_count": 6,
     "metadata": {},
     "output_type": "execute_result"
    }
   ],
   "source": [
    "spam.rstrip()"
   ]
  },
  {
   "cell_type": "code",
   "execution_count": 7,
   "metadata": {},
   "outputs": [],
   "source": [
    "spam = 'SpamSpamBaconSpamEggsSpamSpam'"
   ]
  },
  {
   "cell_type": "code",
   "execution_count": 8,
   "metadata": {},
   "outputs": [
    {
     "data": {
      "text/plain": [
       "'BaconSpamEggs'"
      ]
     },
     "execution_count": 8,
     "metadata": {},
     "output_type": "execute_result"
    }
   ],
   "source": [
    "spam.strip('amSp')"
   ]
  },
  {
   "cell_type": "markdown",
   "metadata": {},
   "source": [
    "## Copying and Pasting Strings with Pyperclip module"
   ]
  },
  {
   "cell_type": "code",
   "execution_count": 13,
   "metadata": {},
   "outputs": [],
   "source": [
    "#C:\\Users\\Bhagya\\Anaconda3>py -3 -m pip install pyperclip\n",
    "python3 -m pip install pyperclip"
   ]
  },
  {
   "cell_type": "code",
   "execution_count": 2,
   "metadata": {},
   "outputs": [
    {
     "data": {
      "text/plain": [
       "'Hello World'"
      ]
     },
     "execution_count": 2,
     "metadata": {},
     "output_type": "execute_result"
    }
   ],
   "source": [
    "#Pyperclip module has copy() nd paste() functions that can send text to  and receive text from your computers clipboard\n",
    "import pyperclip\n",
    "pyperclip.copy('Hello World')\n",
    "pyperclip.paste()"
   ]
  },
  {
   "cell_type": "code",
   "execution_count": 3,
   "metadata": {},
   "outputs": [
    {
     "data": {
      "text/plain": [
       "\"{'id': 4164482, 'node_id': 'MDEwOlJlcG9zaXRvcnk0MTY0NDgy', 'name': 'django', 'full_name': 'django/django', 'private': False, 'owner': {'login': 'django', 'id': 27804, 'node_id': 'MDEyOk9yZ2FuaXphdGlvbjI3ODA0', 'avatar_url': 'https://avatars2.githubusercontent.com/u/27804?v=4', 'gravatar_id': '', 'url': 'https://api.github.com/users/django', 'html_url': 'https://github.com/django', 'followers_url': 'https://api.github.com/users/django/followers', 'following_url': 'https://api.github.com/users/django/following{/other_user}', 'gists_url': 'https://api.github.com/users/django/gists{/gist_id}', 'starred_url': 'https://api.github.com/users/django/starred{/owner}{/repo}', 'subscriptions_url': 'https://api.github.com/users/django/subscriptions', 'organizations_url': 'https://api.github.com/users/django/orgs', 'repos_url': 'https://api.github.com/users/django/repos', 'events_url': 'https://api.github.com/users/django/events{/privacy}', 'received_events_url': 'https://api.github.com/users/django/received_events', 'type': 'Organization', 'site_admin': False}, 'html_url': 'https://github.com/django/django', 'description': 'The Web framework for perfectionists with deadlines.', 'fork': False, 'url': 'https://api.github.com/repos/django/django', 'forks_url': 'https://api.github.com/repos/django/django/forks', 'keys_url': 'https://api.github.com/repos/django/django/keys{/key_id}', 'collaborators_url': 'https://api.github.com/repos/django/django/collaborators{/collaborator}', 'teams_url': 'https://api.github.com/repos/django/django/teams', 'hooks_url': 'https://api.github.com/repos/django/django/hooks', 'issue_events_url': 'https://api.github.com/repos/django/django/issues/events{/number}', 'events_url': 'https://api.github.com/repos/django/django/events', 'assignees_url': 'https://api.github.com/repos/django/django/assignees{/user}', 'branches_url': 'https://api.github.com/repos/django/django/branches{/branch}', 'tags_url': 'https://api.github.com/repos/django/django/tags', 'blobs_url': 'https://api.github.com/repos/django/django/git/blobs{/sha}', 'git_tags_url': 'https://api.github.com/repos/django/django/git/tags{/sha}', 'git_refs_url': 'https://api.github.com/repos/django/django/git/refs{/sha}', 'trees_url': 'https://api.github.com/repos/django/django/git/trees{/sha}', 'statuses_url': 'https://api.github.com/repos/django/django/statuses/{sha}', 'languages_url': 'https://api.github.com/repos/django/django/languages', 'stargazers_url': 'https://api.github.com/repos/django/django/stargazers', 'contributors_url': 'https://api.github.com/repos/django/django/contributors', 'subscribers_url': 'https://api.github.com/repos/django/django/subscribers', 'subscription_url': 'https://api.github.com/repos/django/django/subscription', 'commits_url': 'https://api.github.com/repos/django/django/commits{/sha}', 'git_commits_url': 'https://api.github.com/repos/django/django/git/commits{/sha}', 'comments_url': 'https://api.github.com/repos/django/django/comments{/number}', 'issue_comment_url': 'https://api.github.com/repos/django/django/issues/comments{/number}', 'contents_url': 'https://api.github.com/repos/django/django/contents/{+path}', 'compare_url': 'https://api.github.com/repos/django/django/compare/{base}...{head}', 'merges_url': 'https://api.github.com/repos/django/django/merges', 'archive_url': 'https://api.github.com/repos/django/django/{archive_format}{/ref}', 'downloads_url': 'https://api.github.com/repos/django/django/downloads', 'issues_url': 'https://api.github.com/repos/django/django/issues{/number}', 'pulls_url': 'https://api.github.com/repos/django/django/pulls{/number}', 'milestones_url': 'https://api.github.com/repos/django/django/milestones{/number}', 'notifications_url': 'https://api.github.com/repos/django/django/notifications{?since,all,participating}', 'labels_url': 'https://api.github.com/repos/django/django/labels{/name}', 'releases_url': 'https://api.github.com/repos/django/django/releases{/id}', 'deployments_url': 'https://api.github.com/repos/django/django/deployments', 'created_at': '2012-04-28T02:47:18Z', 'updated_at': '2020-02-10T02:30:06Z', 'pushed_at': '2020-02-10T00:55:28Z', 'git_url': 'git://github.com/django/django.git', 'ssh_url': 'git@github.com:django/django.git', 'clone_url': 'https://github.com/django/django.git', 'svn_url': 'https://github.com/django/django', 'homepage': 'https://www.djangoproject.com/', 'size': 193716, 'stargazers_count': 47084, 'watchers_count': 47084, 'language': 'Python', 'has_issues': False, 'has_projects': False, 'has_downloads': True, 'has_wiki': False, 'has_pages': False, 'forks_count': 20304, 'mirror_url': None, 'archived': False, 'disabled': False, 'open_issues_count': 243, 'license': {'key': 'other', 'name': 'Other', 'spdx_id': 'NOASSERTION', 'url': None, 'node_id': 'MDc6TGljZW5zZTA='}, 'forks': 20304, 'open_issues': 243, 'watchers': 47084, 'default_branch': 'master', 'temp_clone_token': None, 'organization': {'login': 'django', 'id': 27804, 'node_id': 'MDEyOk9yZ2FuaXphdGlvbjI3ODA0', 'avatar_url': 'https://avatars2.githubusercontent.com/u/27804?v=4', 'gravatar_id': '', 'url': 'https://api.github.com/users/django', 'html_url': 'https://github.com/django', 'followers_url': 'https://api.github.com/users/django/followers', 'following_url': 'https://api.github.com/users/django/following{/other_user}', 'gists_url': 'https://api.github.com/users/django/gists{/gist_id}', 'starred_url': 'https://api.github.com/users/django/starred{/owner}{/repo}', 'subscriptions_url': 'https://api.github.com/users/django/subscriptions', 'organizations_url': 'https://api.github.com/users/django/orgs', 'repos_url': 'https://api.github.com/users/django/repos', 'events_url': 'https://api.github.com/users/django/events{/privacy}', 'received_events_url': 'https://api.github.com/users/django/received_events', 'type': 'Organization', 'site_admin': False}, 'network_count': 20304, 'subscribers_count': 2200}\""
      ]
     },
     "execution_count": 3,
     "metadata": {},
     "output_type": "execute_result"
    }
   ],
   "source": [
    "pyperclip.paste()"
   ]
  },
  {
   "cell_type": "code",
   "execution_count": 4,
   "metadata": {},
   "outputs": [
    {
     "name": "stdout",
     "output_type": "stream",
     "text": [
      "There is no account named -f\n"
     ]
    }
   ],
   "source": [
    "#!python3\n",
    "# An insecure password locker program\n",
    "\n",
    "PASSWORDS = {'email':'fkndnan&894NNNN',\n",
    "\t\t\t 'blog':'mgkreomjg59503-0fmmfl',\n",
    "\t\t\t 'luggage':'12345'}\n",
    "\n",
    "import sys,pyperclip\n",
    "if len(sys.argv) < 2 :\n",
    "\tprint('Usage : python pw.py [account] - copy account password')\n",
    "\tsys.exit()\n",
    "\t\n",
    "account = sys.argv[1] #First command line argument is the account name\n",
    "\n",
    "if account in PASSWORDS:\n",
    "\tpyperclip.copy(PASSWORDS[account])\n",
    "\tprint('Password for '+account+' copied to clipboard')\n",
    "else:\n",
    "\tprint('There is no account named '+account)"
   ]
  },
  {
   "cell_type": "code",
   "execution_count": 2,
   "metadata": {},
   "outputs": [],
   "source": [
    "#bulletPointAdder.py\n",
    "#! python3\n",
    "# bulletPointAdder.py - Adds wikipedia bullet points to the start of each line of text on the clipboard\n",
    "\n",
    "import pyperclip\n",
    "text = pyperclip.paste()\n",
    "\n",
    "#TODO : Separate lines and add stars\n",
    "lines = text.split('\\n')\n",
    "\n",
    "for i in range(len(lines)):\n",
    "    lines[i] = '* ' + lines[i]\n",
    "\n",
    "text = '\\n'.join(lines)    \n",
    "pyperclip.copy(text)\n"
   ]
  },
  {
   "cell_type": "markdown",
   "metadata": {},
   "source": [
    "# Practice Project"
   ]
  },
  {
   "cell_type": "code",
   "execution_count": 12,
   "metadata": {},
   "outputs": [
    {
     "name": "stdout",
     "output_type": "stream",
     "text": [
      "  Apples Alice  Dogs \n",
      " Oranges   Bob  Cats \n",
      "Cherries Carol Moose \n",
      "  Banana David Goose \n"
     ]
    }
   ],
   "source": [
    "\"\"\"Prints a nicely aligned table from a list of strings.\"\"\"\n",
    "\n",
    "table_data = [['Apples', 'Oranges', 'Cherries', 'Banana'],\n",
    "              ['Alice', 'Bob', 'Carol', 'David'],\n",
    "              ['Dogs', 'Cats', 'Moose', 'Goose']]\n",
    "\n",
    "\n",
    "def print_table(table):\n",
    "    \"\"\"Print a formatted, properly aligned table version of a list.\"\"\"\n",
    "    # Create list with zeroes equal to the length of input list\n",
    "    col_widths = [0] * len(table)\n",
    "    \n",
    "\n",
    "    # Finds longest word in each sublists and sets col_width[x] to value\n",
    "    count = 0\n",
    "    while count < len(table):\n",
    "        for item in table[count]:\n",
    "            if len(item) > col_widths[count]:\n",
    "                col_widths[count] = len(item)\n",
    "        count += 1\n",
    "    \n",
    "    # Iterates over lists taking nth element from each\n",
    "    # and printing it with the other nth subitems\n",
    "    # right aligned according to the corresponding col_width value\n",
    "\n",
    "    for word in range(len(table[0])):\n",
    "        for item in range(len(table)):\n",
    "            print(table[item][word].rjust(col_widths[item]), end=' ')\n",
    "        print()\n",
    "\n",
    "\n",
    "\n",
    "table_data = [['Apples', 'Oranges', 'Cherries', 'Banana'],\n",
    "              ['Alice', 'Bob', 'Carol', 'David'],\n",
    "              ['Dogs', 'Cats', 'Moose', 'Goose']]"
   ]
  },
  {
   "cell_type": "code",
   "execution_count": 23,
   "metadata": {},
   "outputs": [
    {
     "name": "stdout",
     "output_type": "stream",
     "text": [
      "[0, 0, 0]\n",
      "[8, 5, 5]\n",
      "  Apples Alice  Dogs \n",
      " Oranges   Bob  Cats \n",
      "Cherries Carol Moose \n",
      "  Banana David Goose \n"
     ]
    }
   ],
   "source": [
    "table_data = [['Apples', 'Oranges', 'Cherries', 'Banana'],\n",
    "              ['Alice', 'Bob', 'Carol', 'David'],\n",
    "              ['Dogs', 'Cats', 'Moose', 'Goose']]\n",
    "\n",
    "def printTable(table):\n",
    "    col_widths = [0] * len(table)\n",
    "\n",
    "    print(col_widths)\n",
    "    count = 0\n",
    "    while count < len(table):\n",
    "        for item in table[count]:\n",
    "            if len(item) > col_widths[count]:\n",
    "                col_widths[count] = len(item)\n",
    "        count += 1    \n",
    "    print(col_widths)\n",
    "    \n",
    "    for word in range(len(table[0])):\n",
    "        for item in range(len(table)):\n",
    "            print(table[item][word].rjust(col_widths[item]),end=' ')\n",
    "        print()\n",
    "\n",
    "printTable(table_data)"
   ]
  }
 ],
 "metadata": {
  "kernelspec": {
   "display_name": "Python 3",
   "language": "python",
   "name": "python3"
  },
  "language_info": {
   "codemirror_mode": {
    "name": "ipython",
    "version": 3
   },
   "file_extension": ".py",
   "mimetype": "text/x-python",
   "name": "python",
   "nbconvert_exporter": "python",
   "pygments_lexer": "ipython3",
   "version": "3.7.1"
  }
 },
 "nbformat": 4,
 "nbformat_minor": 2
}
